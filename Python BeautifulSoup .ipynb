{
 "cells": [
  {
   "cell_type": "markdown",
   "metadata": {
    "slideshow": {
     "slide_type": "slide"
    }
   },
   "source": [
    "# Jupyter Notebook Slides Demo\n",
    "\n",
    "\n",
    "![](https://github.com/jellis18/jupyter_notebook_slide_tutorial/raw/2f152d13f2f3e57ec7a9c2f85ea5b908f77a2c93/img/jupyter.jpg)\n",
    "\n",
    "\n",
    "\n",
    "by: Derrick Alford\n",
    "\n",
    "## Overview:\n",
    "\n",
    "These slides are a very simple example of what you can do with Jupyter Slideshow\n",
    "These slides accompay my blog post detailing how to automate the Notebook -> published web-presentataion process."
   ]
  },
  {
   "cell_type": "markdown",
   "metadata": {
    "slideshow": {
     "slide_type": "slide"
    }
   },
   "source": [
    "# Using Python BeautifulSoup to scrape DataCamp Tutorials & Analyze\n",
    "---\n",
    "In this tutorial, we are going to scrape the tutorials section of the DataCamp website and try to get some insights.\n",
    "\n",
    "The insights will include but not limited to the following!\n",
    "\n",
    "    Most contributing authors\n",
    "    Timeline of contributors (How it all started!)\n",
    "    Comparing upvotes vs. number of articles published\n",
    "    \n",
    "Before that, the website will be scraped using python's BeautifulSoup package.\n",
    "\n",
    "To understand the page structure, Chrome browser developer tools will need to be used. This is done to identify the Classes that will be searched to get the required information. The following information will be gathered from the page:\n",
    "\n",
    "    Author\n",
    "    Publish Date\n",
    "    Title\n",
    "    Description\n",
    "    Up Votes\n",
    "    Importing Libraries\n",
    "\n",
    "## We'll start by importing the necessary libraries as follows:"
   ]
  },
  {
   "cell_type": "code",
   "execution_count": 1,
   "metadata": {
    "slideshow": {
     "slide_type": "subslide"
    }
   },
   "outputs": [],
   "source": [
    "import pandas as pd\n",
    "import numpy as np\n",
    "import matplotlib.pyplot as plt\n",
    "import seaborn as sns\n",
    "%matplotlib inline\n",
    "import re\n",
    "import time\n",
    "from datetime import datetime\n",
    "import matplotlib.dates as mdates\n",
    "import matplotlib.ticker as ticker\n",
    "from urllib.request import urlopen\n",
    "from bs4 import BeautifulSoup"
   ]
  },
  {
   "cell_type": "markdown",
   "metadata": {
    "slideshow": {
     "slide_type": "slide"
    }
   },
   "source": [
    "# Determining Pages to be Scraped\n",
    "\n",
    "A sample URL that we're going to loop and scrape is the following https://www.datacamp.com/community/tutorials?page=2. As we can see, the page=2 argument changes for each page. In order to loop through all the pages to get the necessary dataset;\n",
    "\n",
    "### we need to find out the number of pages.\n",
    "\n",
    "The following lines of code do just that."
   ]
  },
  {
   "cell_type": "markdown",
   "metadata": {
    "slideshow": {
     "slide_type": "subslide"
    }
   },
   "source": [
    "Declare the variables we will need to do the work."
   ]
  },
  {
   "cell_type": "code",
   "execution_count": 2,
   "metadata": {
    "slideshow": {
     "slide_type": "subslide"
    }
   },
   "outputs": [],
   "source": [
    "#1.\n",
    "url = \"https://www.datacamp.com/community/tutorials\"\n",
    "#2.\n",
    "html = urlopen(url)\n",
    "#3.\n",
    "soup = BeautifulSoup(html, 'lxml')\n",
    "#4.\n",
    "pages = [i.text for i in soup.find_all('a') if 'community/tutorials?page=' in str(i)]\n",
    "#5\n",
    "lastpage = pages[-1]"
   ]
  },
  {
   "cell_type": "code",
   "execution_count": 30,
   "metadata": {
    "slideshow": {
     "slide_type": "subslide"
    }
   },
   "outputs": [
    {
     "data": {
      "text/plain": [
       "[<a class=\"jsx-396080995 Logo__image\" href=\"https://www.datacamp.com\"><svg viewbox=\"0 0 1367.47 306.77\" xmlns=\"http://www.w3.org/2000/svg\"><path d=\"M201.49 130.16c2.64-10.87 2.31-21.09-3.62-35.38 0 0 9.55 3.71 8.56-3.65S194.91 76 187 71.11c-3.48-2.17-12.89-6.79-25.52-9.6l2.36-5.32-.66-.32c-19.59-9.54-42.24-.89-42.47-.8l-.7.27 2.24 5.92a78 78 0 0 0-19 7.09C50 96.68 77 152 93.5 165.17s8.89 40 0 64.31H165c1-4.55.13 2.24 3.46-15.91s16.18-11.41 26.3-12 8.52-7.66 8.4-15.56c4.94-2.22 4.94-4.57 1.64-7.41 4.28-4 3.62-4 1.32-7.83s-.66-5.68-.66-5.68 6.92-1.35 7.9-5c.32-7.89-14.5-19.09-11.87-29.93zm-14.78-2.28l-10.59-3.6c-.56 1.45-6 14.9-13 17.27l-6.68-8.84c-3.21 2.51-10.54 4.72-14.07 3.69v-.32h-.19l.2 24.36c-14.05 1.45-30.84-7.06-38.88-18.77l-8.78 6.67c-10-12.07-11.51-26.62-11.62-35h11.77c0-9.27 3.62-21.34 8.72-28l9.23 6.52c.75-.93 7.72-9.27 17.05-12.28h.14l-6.67-17.64c14.09-4.06 24.44-4 35.7.19a3.87 3.87 0 0 1 1 .48l.18.13-1.99 5.26c.53.23 8 3.59 11.09 6.74l2.49-3.44a42.47 42.47 0 0 1 19 25.34L187 98v-.1a55.32 55.32 0 0 1-.28 29.98z\"></path><path d=\"M141.69 95.69a11.77 11.77 0 1 0 11.76 11.77 11.78 11.78 0 0 0-11.76-11.77zM486.07 147.93a85.48 85.48 0 0 1-5.79 31.92 71.67 71.67 0 0 1-41.54 41.32 89 89 0 0 1-32.79 5.83h-60.24V68.9h60.23a88.33 88.33 0 0 1 32.79 5.85A74 74 0 0 1 464 91a72.76 72.76 0 0 1 16.29 25 85.49 85.49 0 0 1 5.78 31.93zm-30.17 0a73.61 73.61 0 0 0-3.44-23.34 48.4 48.4 0 0 0-9.95-17.49 43.45 43.45 0 0 0-15.74-11 54 54 0 0 0-20.82-3.83h-30.72v111.3h30.72a54 54 0 0 0 20.82-3.83 43.39 43.39 0 0 0 15.74-11 48.37 48.37 0 0 0 9.95-17.49 73.6 73.6 0 0 0 3.44-23.32zM505.36 130.44q19.35-17.71 46.57-17.71a45.54 45.54 0 0 1 17.6 3.22 37.21 37.21 0 0 1 13.12 9 38.4 38.4 0 0 1 8.14 13.72 52.72 52.72 0 0 1 2.79 17.49V227h-12.25a12.38 12.38 0 0 1-5.9-1.15q-2.08-1.15-3.28-4.65l-2.4-8.09a97.29 97.29 0 0 1-8.31 6.72 48.91 48.91 0 0 1-8.42 4.86 45.32 45.32 0 0 1-9.35 3 53.93 53.93 0 0 1-11 1 43.08 43.08 0 0 1-13.12-1.91 28.78 28.78 0 0 1-10.38-5.74 25.73 25.73 0 0 1-6.78-9.51 33.72 33.72 0 0 1-2.4-13.23 26.32 26.32 0 0 1 1.42-8.47 24.76 24.76 0 0 1 4.65-8 38.63 38.63 0 0 1 8.36-7.21 54.43 54.43 0 0 1 12.63-5.9 109.08 109.08 0 0 1 17.44-4.1 174.35 174.35 0 0 1 22.74-1.91v-6.56q0-11.26-4.81-16.67t-13.88-5.41a33 33 0 0 0-10.88 1.53 44.91 44.91 0 0 0-7.6 3.44q-3.28 1.91-6 3.44a11.78 11.78 0 0 1-6 1.53 7.79 7.79 0 0 1-4.81-1.48 12.33 12.33 0 0 1-3.17-3.44zm61.87 48.64a149.08 149.08 0 0 0-19.68 2 52.42 52.42 0 0 0-12.79 3.77 16.8 16.8 0 0 0-6.89 5.36 11.63 11.63 0 0 0-2.08 6.67q0 7.11 4.21 10.17t11 3.06a32 32 0 0 0 14.37-3 42.69 42.69 0 0 0 11.86-9.11zM657.79 228.72q-14.65 0-22.46-8.25t-7.82-22.79V135H616a5.26 5.26 0 0 1-3.72-1.42 5.53 5.53 0 0 1-1.53-4.26v-10.68l18-3 5.68-30.61a6 6 0 0 1 2.08-3.39 6.18 6.18 0 0 1 3.94-1.2h14v35.36h30V135h-30v60.78q0 5.25 2.57 8.2a8.85 8.85 0 0 0 7 3 12.7 12.7 0 0 0 4.21-.6 23 23 0 0 0 3-1.26q1.26-.66 2.24-1.26a3.75 3.75 0 0 1 2-.6 3.1 3.1 0 0 1 2 .6 9.23 9.23 0 0 1 1.64 1.8l8.09 13.12a40.87 40.87 0 0 1-13.55 7.43 50.47 50.47 0 0 1-15.86 2.51zM702.11 130.44q19.35-17.71 46.57-17.71a45.54 45.54 0 0 1 17.6 3.22 37.19 37.19 0 0 1 13.12 9 38.37 38.37 0 0 1 8.14 13.72 52.72 52.72 0 0 1 2.79 17.49V227h-12.25a12.37 12.37 0 0 1-5.9-1.15q-2.08-1.15-3.28-4.65l-2.4-8.09a97.21 97.21 0 0 1-8.31 6.72 49 49 0 0 1-8.42 4.86 45.33 45.33 0 0 1-9.35 3 53.92 53.92 0 0 1-11 1 43.08 43.08 0 0 1-13.12-1.91 28.78 28.78 0 0 1-10.38-5.74 25.74 25.74 0 0 1-6.78-9.51 33.72 33.72 0 0 1-2.4-13.23 26.31 26.31 0 0 1 1.42-8.47 24.76 24.76 0 0 1 4.65-8 38.66 38.66 0 0 1 8.36-7.21 54.45 54.45 0 0 1 12.63-5.9 109.07 109.07 0 0 1 17.44-4.1 174.32 174.32 0 0 1 22.76-1.93v-6.56q0-11.26-4.81-16.67t-13.88-5.41a33 33 0 0 0-10.88 1.53 44.89 44.89 0 0 0-7.6 3.44q-3.28 1.91-6 3.44a11.79 11.79 0 0 1-6 1.53 7.79 7.79 0 0 1-4.81-1.48 12.33 12.33 0 0 1-3.17-3.44zM764 179.09a149.06 149.06 0 0 0-19.68 2 52.43 52.43 0 0 0-12.79 3.77 16.81 16.81 0 0 0-6.89 5.36 11.63 11.63 0 0 0-2.08 6.67q0 7.11 4.21 10.17t11 3.06a32 32 0 0 0 14.37-3A42.68 42.68 0 0 0 764 198zM929.42 189.69a5.87 5.87 0 0 1 4.26 1.86l11.59 12.57a63.64 63.64 0 0 1-23.67 18.26q-14 6.34-33.72 6.34-17.6 0-31.65-6a69.71 69.71 0 0 1-24-16.73A73.19 73.19 0 0 1 817 180.4a96 96 0 0 1-5.3-32.47 90.36 90.36 0 0 1 5.68-32.63 75 75 0 0 1 16-25.52A72.5 72.5 0 0 1 858 73.11a81.77 81.77 0 0 1 31.7-6q17.27 0 30.66 5.68a73.08 73.08 0 0 1 22.83 14.91l-9.84 13.66a9 9 0 0 1-2.24 2.29 6.35 6.35 0 0 1-3.77 1 7.2 7.2 0 0 1-3.39-.93q-1.75-.93-3.83-2.29t-4.81-3a39.67 39.67 0 0 0-6.34-3 51.92 51.92 0 0 0-8.36-2.29 57.87 57.87 0 0 0-11-.93A48.74 48.74 0 0 0 870.23 96a42.16 42.16 0 0 0-15.14 10.93 50.38 50.38 0 0 0-9.84 17.49 73.27 73.27 0 0 0-3.5 23.56 69.25 69.25 0 0 0 3.77 23.72 52.12 52.12 0 0 0 10.22 17.49 43.61 43.61 0 0 0 15.2 10.81 47 47 0 0 0 18.8 3.77 81.89 81.89 0 0 0 10.88-.66 46.17 46.17 0 0 0 9-2.08 39.7 39.7 0 0 0 7.76-3.66 48.48 48.48 0 0 0 7.27-5.52 10.31 10.31 0 0 1 2.29-1.58 5.56 5.56 0 0 1 2.48-.58zM961.6 130.44q19.35-17.71 46.57-17.71a45.54 45.54 0 0 1 17.6 3.22 37.19 37.19 0 0 1 13.12 9 38.37 38.37 0 0 1 8.14 13.72 52.72 52.72 0 0 1 2.79 17.49V227h-12.24a12.37 12.37 0 0 1-5.9-1.15q-2.08-1.15-3.28-4.65l-2.4-8.09a97.21 97.21 0 0 1-8.31 6.72 49 49 0 0 1-8.42 4.86 45.33 45.33 0 0 1-9.35 3 53.92 53.92 0 0 1-11 1 43.08 43.08 0 0 1-13.12-1.91 28.78 28.78 0 0 1-10.38-5.74 25.74 25.74 0 0 1-6.78-9.51 33.73 33.73 0 0 1-2.4-13.23 26.31 26.31 0 0 1 1.42-8.47 24.76 24.76 0 0 1 4.65-8 38.66 38.66 0 0 1 8.36-7.21 54.45 54.45 0 0 1 12.63-5.9 109.07 109.07 0 0 1 17.44-4.1 174.32 174.32 0 0 1 22.74-1.91v-6.56q0-11.26-4.81-16.67t-13.88-5.41a33 33 0 0 0-10.88 1.53 44.89 44.89 0 0 0-7.6 3.44q-3.28 1.91-6 3.44a11.79 11.79 0 0 1-6 1.53 7.79 7.79 0 0 1-4.81-1.48 12.33 12.33 0 0 1-3.17-3.44zm61.87 48.64a149.06 149.06 0 0 0-19.68 2 52.43 52.43 0 0 0-12.79 3.8 16.81 16.81 0 0 0-6.89 5.36 11.63 11.63 0 0 0-2.08 6.67q0 7.11 4.21 10.17t11 3.06a32 32 0 0 0 14.37-3 42.68 42.68 0 0 0 11.86-9.13zM1078.18 227V114.81h16.51a6.63 6.63 0 0 1 6.89 4.92l1.75 8.31a63.82 63.82 0 0 1 6.18-6 39.66 39.66 0 0 1 6.89-4.7 37.29 37.29 0 0 1 7.87-3.12 35.05 35.05 0 0 1 9.24-1.15q10.6 0 17.43 5.74a34.56 34.56 0 0 1 10.22 15.25 34.23 34.23 0 0 1 6.56-9.57 35.9 35.9 0 0 1 8.63-6.5 39.77 39.77 0 0 1 10-3.72 48.07 48.07 0 0 1 10.66-1.2 44.82 44.82 0 0 1 16.51 2.84 31.69 31.69 0 0 1 12.13 8.31 36.63 36.63 0 0 1 7.49 13.34 58.1 58.1 0 0 1 2.57 18V227h-27v-71.41q0-10.71-4.7-16.12t-13.77-5.41a20.57 20.57 0 0 0-7.71 1.42 18.37 18.37 0 0 0-6.23 4.1 18.73 18.73 0 0 0-4.21 6.72 26.13 26.13 0 0 0-1.53 9.29V227h-27.11v-71.41q0-11.26-4.54-16.4t-13.28-5.14a21.83 21.83 0 0 0-11 2.9 36.66 36.66 0 0 0-9.46 7.92V227zM1289.85 130.12a58.51 58.51 0 0 1 15.63-12.57q8.74-4.81 20.55-4.81a36.79 36.79 0 0 1 16.78 3.83 37.68 37.68 0 0 1 13.12 11.09 53.26 53.26 0 0 1 8.53 17.93 90.21 90.21 0 0 1 3 24.43 76.84 76.84 0 0 1-3.39 23.28 57 57 0 0 1-9.67 18.58 44.72 44.72 0 0 1-15.19 12.3 44.22 44.22 0 0 1-19.95 4.43 40.23 40.23 0 0 1-16.07-2.9 39.23 39.23 0 0 1-11.92-8v45.91h-27V114.81h16.51a6.63 6.63 0 0 1 6.89 4.92zm1.42 67.77a26.57 26.57 0 0 0 10 7.87 29.76 29.76 0 0 0 11.75 2.3 25.79 25.79 0 0 0 11-2.3 21.63 21.63 0 0 0 8.36-7 34.62 34.62 0 0 0 5.3-11.86 67.79 67.79 0 0 0 1.86-16.89 75 75 0 0 0-1.58-16.67 32.22 32.22 0 0 0-4.54-11.09 17.92 17.92 0 0 0-7.16-6.23 22.34 22.34 0 0 0-9.57-2 27.28 27.28 0 0 0-14.32 3.55 43.46 43.46 0 0 0-11.15 10z\"></path><path d=\"M144.06 306.77a9.83 9.83 0 0 1-4.72-1.21L23.79 242a9.82 9.82 0 0 1-5-7.56L.06 57.52a9.77 9.77 0 0 1 6.5-10.29L139.37.55a9.88 9.88 0 0 1 6.43 0L281.5 47.2a9.86 9.86 0 0 1 6.5 10.47L266.47 234.6a9.85 9.85 0 0 1-4.91 7.35l-112.68 63.56a9.84 9.84 0 0 1-4.82 1.26zm-110-77l110 60.49 107.22-60.48L271.89 60.5 142.64 16 16.15 60.5z\"></path></svg></a>,\n",
       " <a class=\"jsx-2769082546 item\" href=\"/community\" target=\"_self\"><div class=\"jsx-2769082546 image\"><svg height=\"14\" viewbox=\"0 0 23 23\" xmlns=\"http://www.w3.org/2000/svg\"><path d=\"M2 4.5h20a1.5 1.5 0 0 1 0 3H2a1.5 1.5 0 0 1 0-3zm0 6h14a1.5 1.5 0 0 1 0 3H2a1.5 1.5 0 0 1 0-3zm0 6h20a1.5 1.5 0 0 1 0 3H2a1.5 1.5 0 0 1 0-3z\" id=\"a\"></path></svg></div><div class=\"jsx-2769082546 text\">News</div><div class=\"jsx-2769082546 statusIcon\"><svg height=\"20\" viewbox=\"0 0 40 20\" width=\"40\" xmlns=\"http://www.w3.org/2000/svg\"><g fill=\"none\" fill-rule=\"evenodd\"><rect fill=\"#FFC844\" height=\"20\" rx=\"4\" width=\"40\"></rect><text fill=\"#3D4251\" font-family=\"Lato-Bold, Lato\" font-size=\"11\" font-weight=\"bold\" letter-spacing=\".5\"><tspan x=\"5\" y=\"14\">BETA</tspan></text></g></svg></div></a>,\n",
       " <a class=\"jsx-2769082546 item\" href=\"https://www.datacamp.com/resources\" target=\"_self\"><div class=\"jsx-2769082546 image\"><svg height=\"14\" viewbox=\"0 0 21.75 29.76\" xmlns=\"http://www.w3.org/2000/svg\"><path d=\"M15.56 22.57a1.5 1.5 0 0 1-1.5-1.5 7.66 7.66 0 0 1 2.47-5.29 7.38 7.38 0 0 0 2.21-5.31A7.48 7.48 0 0 0 11.28 3h-.82a7.47 7.47 0 0 0-5.2 12.83 7.63 7.63 0 0 1 2.42 5.23 1.5 1.5 0 0 1-3 0 4.65 4.65 0 0 0-1.45-3A10.47 10.47 0 0 1 10.47 0h.82a10.47 10.47 0 0 1 7.28 18 4.68 4.68 0 0 0-1.5 3.08 1.5 1.5 0 0 1-1.51 1.49zM16.5 24.26a5.5 5.5 0 0 1-11 0\"></path><path d=\"M10.89 22.56a1.5 1.5 0 0 1-1.5-1.5v-8.84a1.5 1.5 0 0 1 3 0v8.84a1.5 1.5 0 0 1-1.5 1.5z\"></path></svg></div><div class=\"jsx-2769082546 text\">Resource Center</div></a>,\n",
       " <a class=\"jsx-2769082546 item active\" href=\"/community/tutorials\" target=\"_self\"><div class=\"jsx-2769082546 image\"><svg height=\"14\" viewbox=\"0 0 32 24.22\" xmlns=\"http://www.w3.org/2000/svg\"><path d=\"M16.23 24.22a2 2 0 0 1-.73-.14L7 20.79a2 2 0 0 1-1.29-1.88v-4a1.5 1.5 0 0 1 3 0v3.36l7.54 2.92 7.54-2.92v-3.45a1.5 1.5 0 0 1 3 0v4.09a2 2 0 0 1-1.29 1.88L17 24.08a2 2 0 0 1-.77.14zm-.35-2.94zm.7 0z\"></path><path d=\"M16.23 13.35a2 2 0 0 1-.62-.1C9.17 11.16 2.36 9 1.61 8.76a2 2 0 0 1-.25-3.87l14-4.78a2 2 0 0 1 1.3 0l14 4.78a2 2 0 0 1 0 3.81l-13.8 4.55a2 2 0 0 1-.63.1zm-.31-3zM5.21 6.74c3.49 1.11 9.07 2.92 11 3.56l10.68-3.53L16 3.05z\"></path></svg></div><div class=\"jsx-2769082546 text\">Tutorials</div></a>,\n",
       " <a class=\"jsx-2769082546 item\" href=\"/community/data-science-cheatsheets\" target=\"_self\"><div class=\"jsx-2769082546 image\"><svg height=\"14\" viewbox=\"0 0 24 26\" xmlns=\"http://www.w3.org/2000/svg\"><path d=\"M18.5 26h-13A5.51 5.51 0 0 1 0 20.5v-15A5.51 5.51 0 0 1 5.5 0h13A5.51 5.51 0 0 1 24 5.5v15a5.51 5.51 0 0 1-5.5 5.5zM5.5 3A2.5 2.5 0 0 0 3 5.5v15A2.5 2.5 0 0 0 5.5 23h13a2.5 2.5 0 0 0 2.5-2.5v-15A2.5 2.5 0 0 0 18.5 3z\"></path><path d=\"M16 11H8a1.5 1.5 0 0 1 0-3h8a1.5 1.5 0 0 1 0 3zM16 18H8a1.5 1.5 0 0 1 0-3h8a1.5 1.5 0 0 1 0 3z\"></path></svg></div><div class=\"jsx-2769082546 text\">Cheat Sheets</div></a>,\n",
       " <a class=\"jsx-2769082546 item\" href=\"/community/open-courses\" target=\"_self\"><div class=\"jsx-2769082546 image\"><svg height=\"14\" viewbox=\"0 0 34 26\" xmlns=\"http://www.w3.org/2000/svg\"><path d=\"M28.5 26h-23A5.51 5.51 0 0 1 0 20.5v-15A5.51 5.51 0 0 1 5.5 0h23A5.51 5.51 0 0 1 34 5.5v15a5.51 5.51 0 0 1-5.5 5.5zM5.5 3A2.5 2.5 0 0 0 3 5.5v15A2.5 2.5 0 0 0 5.5 23h23a2.5 2.5 0 0 0 2.5-2.5v-15A2.5 2.5 0 0 0 28.5 3z\"></path><path d=\"M13.5 26a1.5 1.5 0 0 1-1.5-1.5v-22a1.5 1.5 0 0 1 3 0v22a1.5 1.5 0 0 1-1.5 1.5zM27 11h-8a1.5 1.5 0 0 1 0-3h8a1.5 1.5 0 0 1 0 3zM27 18h-8a1.5 1.5 0 0 1 0-3h8a1.5 1.5 0 0 1 0 3z\"></path></svg></div><div class=\"jsx-2769082546 text\">Open Courses</div></a>,\n",
       " <a class=\"jsx-2769082546 item\" href=\"/community/podcast\" target=\"_self\"><div class=\"jsx-2769082546 image\"><svg height=\"14\" viewbox=\"0 0 18 18\" width=\"18\" xmlns=\"http://www.w3.org/2000/svg\"><path d=\"M9.415 11.077h-.369a2.777 2.777 0 0 1-2.769-2.77V2.77A2.777 2.777 0 0 1 9.047 0h.368a2.777 2.777 0 0 1 2.77 2.77v5.538a2.777 2.777 0 0 1-2.77 2.769zm5.008-7.615c.573 0 1.039.464 1.039 1.038v3.462c0 3.08-2.25 5.64-5.193 6.136v1.825h2.077a1.038 1.038 0 1 1 0 2.077h-6.23a1.038 1.038 0 1 1 0-2.077h2.076v-1.825C5.25 13.602 3 11.042 3 7.962V4.5a1.038 1.038 0 1 1 2.077 0v3.462a4.158 4.158 0 0 0 4.154 4.153 4.158 4.158 0 0 0 4.154-4.153V4.5c0-.574.465-1.038 1.038-1.038z\"></path></svg></div><div class=\"jsx-2769082546 text\">Podcast - DataFramed</div></a>,\n",
       " <a class=\"jsx-2769082546 item\" href=\"/community/chat\" target=\"_self\"><div class=\"jsx-2769082546 image\"><svg height=\"14\" viewbox=\"0 0 18 16\" xmlns=\"http://www.w3.org/2000/svg\"><g transform=\"translate(0 -1)\"><path d=\"M12.595 13.364c.01-.111.02-.197.028-.251.058-.405.372-.702.74-.702h1.257c1.035-.002 1.875-.934 1.88-2.082V4.764c-.001-1.155-.842-2.092-1.878-2.094H3.38c-1.034.002-1.873.931-1.88 2.076v5.565c.001 1.156.842 2.092 1.878 2.094h6.626c.292 0 .557.189.68.484.408.977 1.07 1.576 1.94 1.85a6.004 6.004 0 0 1-.03-1.375h.001zm1.51 1.119c.048.314.136.521.235.606.566.487.258 1.497-.458 1.497-1.87 0-3.423-.785-4.33-2.51H3.376C1.513 14.07.004 12.39 0 10.311V4.74C.014 2.673 1.52 1.004 3.378 1h11.245c1.864.004 3.373 1.686 3.377 3.763v5.57c-.01 2.07-1.518 3.744-3.378 3.748h-.551c.004.138.016.273.035.402h-.001zm-8.423-5.81a1.115 1.115 0 1 0 0-2.229 1.115 1.115 0 0 0 0 2.229zm3.268 0a1.115 1.115 0 1 0 0-2.229 1.115 1.115 0 0 0 0 2.229zm3.318 0a1.114 1.114 0 1 0 0-2.229 1.114 1.114 0 0 0 0 2.229z\" id=\"path-1\"></path></g></svg></div><div class=\"jsx-2769082546 text\">Chat</div><div class=\"jsx-2769082546 statusIcon\"><svg height=\"20\" viewbox=\"0 0 40 17\" width=\"40\" xmlns=\"http://www.w3.org/2000/svg\"><g fill=\"none\" fill-rule=\"evenodd\"><rect fill=\"#36D57D\" height=\"17\" rx=\"4\" width=\"40\"></rect><text fill=\"#FFF\" font-family=\"Lato-Bold, Lato\" font-size=\"12\" font-weight=\"bold\" letter-spacing=\".4\"><tspan x=\"5\" y=\"13\">NEW</tspan></text></g></svg></div></a>,\n",
       " <a class=\"jsx-2769082546 item\" href=\"/community/blog\" target=\"_self\"><div class=\"jsx-2769082546 image\"><svg height=\"14\" id=\"Réteg_1\" viewbox=\"0 0 17 18\" xmlns=\"http://www.w3.org/2000/svg\"><path d=\"M12.3 9.8s-.1.1 0 .4c.1.2.2.2-.1.5.2.2.2.3-.1.5 0 .5.1.9-.5 1-.6 0-1.4-.4-1.7.8-.2 1.1-.2.7-.2 1H5.3c.6-1.5 1-3.2 0-4-1.1-1-2.7-4.4.6-6.2.4-.2.8-.3 1.2-.4L6.9 3s1.4-.5 2.7.1v.2c.8.2 1.4.5 1.6.6.5.3 1.2.8 1.2 1.3.1.5-.5.2-.5.2.4.9.4 1.5.2 2.2-.2.7.8 1.4.7 1.9-.1.3-.5.3-.5.3m4.2-7L8.6 0h-.4L.4 2.8c-.3.1-.4.3-.4.6l1.1 10.4c0 .2.1.4.3.4l6.8 3.7c.2.1.4.1.6 0l6.6-3.7c.2-.1.3-.3.3-.4L17 3.4c-.1-.3-.2-.5-.5-.6M8.3 7c-.4 0-.7-.4-.7-.8s.3-.7.7-.7c.4 0 .7.3.7.7 0 .4-.3.8-.7.8zm2.9-1.4l.2-.1c-.3-1-1.2-1.5-1.2-1.5l-.2.2c-.1-.2-.6-.4-.7-.5l.1-.3h-.1c-.6-.3-1.3-.3-2.1 0l.4 1.1c-.6.2-1.1.7-1.1.7l-.6-.4c-.3.5-.5 1.2-.5 1.8h-.8c0 .5.1 1.4.7 2.2l.6-.4c.5.7 1.6 1.3 2.4 1.2V8.1c.3 0 .7-.1.9-.3l.4.6c.4-.1.8-1 .8-1.1l.7.2c.2-.6.2-1.3.1-1.9z\" id=\"path-1_1_\"></path></svg></div><div class=\"jsx-2769082546 text\">Official Blog</div></a>,\n",
       " <a class=\"jsx-3196442269\" href=\"https://www.datacamp.com/users/sign_in?redirect=https://www.datacamp.com/community\"><button class=\"jsx-1844558338 Button border minWidth\"><div class=\"jsx-1844558338\">Log in</div></button></a>,\n",
       " <a class=\"jsx-3470780134 item allTags\">all tags<!-- --> <span class=\"jsx-3470780134 icon\"><svg viewbox=\"0 0 13.97 8.3\" xmlns=\"http://www.w3.org/2000/svg\"><path d=\"M0 1.32A1.32 1.32 0 0 1 2.25.39L7 5.12 11.73.39a1.32 1.32 0 0 1 1.86 1.86L7.92 7.92a1.32 1.32 0 0 1-1.86 0L.39 2.25A1.31 1.31 0 0 1 0 1.32z\"></path></svg></span></a>,\n",
       " <a class=\"jsx-3470780134 item active\" href=\"/community/tutorials\">latest</a>,\n",
       " <a class=\"jsx-3470780134 item\" href=\"/community/tutorials?posts_selected_tab=must_read\">must read</a>,\n",
       " <a class=\"jsx-1022557955 more\">+<!-- -->1</a>,\n",
       " <a class=\"jsx-379356511\" href=\"/community/tutorials/scraping-javascript-generated-data-with-r\">Web Scraping with R and PhantomJS</a>,\n",
       " <a class=\"jsx-566588255\" href=\"/profile/filip\" target=\"_blank\"><div class=\"jsx-3208234818 Avatar\" style=\"background-image:url(https://res.cloudinary.com/dyd911kmh/image/fetch/t_avatar_thumbnail/https://assets.datacamp.com/users/avatars/000/042/463/square/profile4.jpg?1567865333);border-radius:20px;min-width:40px;min-height:40px\"></div><div class=\"jsx-566588255 info\"><div class=\"jsx-566588255 name\">Filip Schouwenaars</div><div class=\"jsx-566588255 date\"><span>March 16th, 2015</span></div></div></a>,\n",
       " <a class=\"jsx-1022557955 more\">+<!-- -->1</a>,\n",
       " <a class=\"jsx-494086174 icon\" href=\"https://www.facebook.com/sharer.php?u=https://www.datacamp.com/community/tutorials/scraping-javascript-generated-data-with-r\" rel=\"noopener noreferrer\" target=\"_blank\"><svg height=\"12\" viewbox=\"0 0 11.73 22.58\" xmlns=\"http://www.w3.org/2000/svg\"><path d=\"M7.61 22.58v-10.3h3.46l.52-4h-4V5.7c0-1.16.32-2 2-2h2.13V.16A28.47 28.47 0 0 0 8.63 0C5.56 0 3.47 1.87 3.47 5.31v3H0v4h3.47v10.3h4.14z\"></path></svg></a>,\n",
       " <a class=\"jsx-494086174 icon centerIcon\" href=\"https://twitter.com/intent/tweet?url=https://www.datacamp.com/community/tutorials/scraping-javascript-generated-data-with-r\" rel=\"noopener noreferrer\" target=\"_blank\"><svg height=\"10\" viewbox=\"0 0 20.42 16.67\" xmlns=\"http://www.w3.org/2000/svg\"><path d=\"M10 5.18c0-.28-.06-.53-.07-.78a4 4 0 0 1 .73-2.57A4.08 4.08 0 0 1 13.93 0 4 4 0 0 1 17 1.15a.43.43 0 0 0 .46.12 8.68 8.68 0 0 0 2.2-.84l.2-.1a4.36 4.36 0 0 1-1.75 2.28A9 9 0 0 0 20.42 2l-.21.3a3.83 3.83 0 0 1-.23.3A8.45 8.45 0 0 1 18.5 4a.28.28 0 0 0-.13.27A12 12 0 0 1 17 10.18a11.8 11.8 0 0 1-3.37 4.11 11.17 11.17 0 0 1-4.39 2.06 12.53 12.53 0 0 1-4.44.22 11.87 11.87 0 0 1-4.74-1.73L0 14.79a8.6 8.6 0 0 0 6.16-1.74 4.28 4.28 0 0 1-3.91-2.91h.95a6.18 6.18 0 0 0 .89-.12A4.2 4.2 0 0 1 .8 5.88a4 4 0 0 0 1.81.49 4.23 4.23 0 0 1-1.78-3A4.07 4.07 0 0 1 1.38.79 12.06 12.06 0 0 0 10 5.18z\" id=\"iOjKBC.tif\"></path></svg></a>,\n",
       " <a class=\"jsx-494086174 icon\" href=\"https://www.linkedin.com/cws/share?url=https://www.datacamp.com/community/tutorials/scraping-javascript-generated-data-with-r\" rel=\"noopener noreferrer\" target=\"_blank\"><svg height=\"10\" viewbox=\"0 0 16.99 17\" xmlns=\"http://www.w3.org/2000/svg\"><path d=\"M3.85 17H.34V5.67h3.51zM2.07 4.18a2.09 2.09 0 1 1 2.08-2.09 2.08 2.08 0 0 1-2.08 2.09zM17 17h-3.5v-5.95c0-1.63-.62-2.54-1.91-2.54s-2.14.95-2.14 2.54V17H6.09V5.67h3.36v1.52a4 4 0 0 1 3.42-1.87c2.4 0 4.12 1.47 4.12 4.5V17z\"></path></svg></a>,\n",
       " <a class=\"jsx-1022557955 more\">+<!-- -->1</a>,\n",
       " <a class=\"jsx-379356511\" href=\"/community/tutorials/how-to-speak-data-science\">How to Speak Data Science</a>,\n",
       " <a class=\"jsx-566588255\" href=\"/profile/karlijn\" target=\"_blank\"><div class=\"jsx-3208234818 Avatar\" style=\"background-image:url(https://res.cloudinary.com/dyd911kmh/image/fetch/t_avatar_thumbnail/https://assets.datacamp.com/users/avatars/000/494/311/square/Screenshot_2017-04-26_16.02.58.png?1493215479);border-radius:20px;min-width:40px;min-height:40px\"></div><div class=\"jsx-566588255 info\"><div class=\"jsx-566588255 name\">Karlijn Willems</div><div class=\"jsx-566588255 date\"><span>March 4th, 2015</span></div></div></a>,\n",
       " <a class=\"jsx-1022557955 more\">+<!-- -->1</a>,\n",
       " <a class=\"jsx-494086174 icon\" href=\"https://www.facebook.com/sharer.php?u=https://www.datacamp.com/community/tutorials/how-to-speak-data-science\" rel=\"noopener noreferrer\" target=\"_blank\"><svg height=\"12\" viewbox=\"0 0 11.73 22.58\" xmlns=\"http://www.w3.org/2000/svg\"><path d=\"M7.61 22.58v-10.3h3.46l.52-4h-4V5.7c0-1.16.32-2 2-2h2.13V.16A28.47 28.47 0 0 0 8.63 0C5.56 0 3.47 1.87 3.47 5.31v3H0v4h3.47v10.3h4.14z\"></path></svg></a>,\n",
       " <a class=\"jsx-494086174 icon centerIcon\" href=\"https://twitter.com/intent/tweet?url=https://www.datacamp.com/community/tutorials/how-to-speak-data-science\" rel=\"noopener noreferrer\" target=\"_blank\"><svg height=\"10\" viewbox=\"0 0 20.42 16.67\" xmlns=\"http://www.w3.org/2000/svg\"><path d=\"M10 5.18c0-.28-.06-.53-.07-.78a4 4 0 0 1 .73-2.57A4.08 4.08 0 0 1 13.93 0 4 4 0 0 1 17 1.15a.43.43 0 0 0 .46.12 8.68 8.68 0 0 0 2.2-.84l.2-.1a4.36 4.36 0 0 1-1.75 2.28A9 9 0 0 0 20.42 2l-.21.3a3.83 3.83 0 0 1-.23.3A8.45 8.45 0 0 1 18.5 4a.28.28 0 0 0-.13.27A12 12 0 0 1 17 10.18a11.8 11.8 0 0 1-3.37 4.11 11.17 11.17 0 0 1-4.39 2.06 12.53 12.53 0 0 1-4.44.22 11.87 11.87 0 0 1-4.74-1.73L0 14.79a8.6 8.6 0 0 0 6.16-1.74 4.28 4.28 0 0 1-3.91-2.91h.95a6.18 6.18 0 0 0 .89-.12A4.2 4.2 0 0 1 .8 5.88a4 4 0 0 0 1.81.49 4.23 4.23 0 0 1-1.78-3A4.07 4.07 0 0 1 1.38.79 12.06 12.06 0 0 0 10 5.18z\" id=\"iOjKBC.tif\"></path></svg></a>,\n",
       " <a class=\"jsx-494086174 icon\" href=\"https://www.linkedin.com/cws/share?url=https://www.datacamp.com/community/tutorials/how-to-speak-data-science\" rel=\"noopener noreferrer\" target=\"_blank\"><svg height=\"10\" viewbox=\"0 0 16.99 17\" xmlns=\"http://www.w3.org/2000/svg\"><path d=\"M3.85 17H.34V5.67h3.51zM2.07 4.18a2.09 2.09 0 1 1 2.08-2.09 2.08 2.08 0 0 1-2.08 2.09zM17 17h-3.5v-5.95c0-1.63-.62-2.54-1.91-2.54s-2.14.95-2.14 2.54V17H6.09V5.67h3.36v1.52a4 4 0 0 1 3.42-1.87c2.4 0 4.12 1.47 4.12 4.5V17z\"></path></svg></a>,\n",
       " <a class=\"jsx-1022557955 more\">+<!-- -->1</a>,\n",
       " <a class=\"jsx-379356511\" href=\"/community/tutorials/data-table-r-tutorial\">A data.table R Tutorial:  Intro to DT[i, j, by]</a>,\n",
       " <a class=\"jsx-566588255\" href=\"/profile/karlijn\" target=\"_blank\"><div class=\"jsx-3208234818 Avatar\" style=\"background-image:url(https://res.cloudinary.com/dyd911kmh/image/fetch/t_avatar_thumbnail/https://assets.datacamp.com/users/avatars/000/494/311/square/Screenshot_2017-04-26_16.02.58.png?1493215479);border-radius:20px;min-width:40px;min-height:40px\"></div><div class=\"jsx-566588255 info\"><div class=\"jsx-566588255 name\">Karlijn Willems</div><div class=\"jsx-566588255 date\"><span>February 3rd, 2015</span></div></div></a>,\n",
       " <a class=\"jsx-1022557955 more\">+<!-- -->1</a>,\n",
       " <a class=\"jsx-494086174 icon\" href=\"https://www.facebook.com/sharer.php?u=https://www.datacamp.com/community/tutorials/data-table-r-tutorial\" rel=\"noopener noreferrer\" target=\"_blank\"><svg height=\"12\" viewbox=\"0 0 11.73 22.58\" xmlns=\"http://www.w3.org/2000/svg\"><path d=\"M7.61 22.58v-10.3h3.46l.52-4h-4V5.7c0-1.16.32-2 2-2h2.13V.16A28.47 28.47 0 0 0 8.63 0C5.56 0 3.47 1.87 3.47 5.31v3H0v4h3.47v10.3h4.14z\"></path></svg></a>,\n",
       " <a class=\"jsx-494086174 icon centerIcon\" href=\"https://twitter.com/intent/tweet?url=https://www.datacamp.com/community/tutorials/data-table-r-tutorial\" rel=\"noopener noreferrer\" target=\"_blank\"><svg height=\"10\" viewbox=\"0 0 20.42 16.67\" xmlns=\"http://www.w3.org/2000/svg\"><path d=\"M10 5.18c0-.28-.06-.53-.07-.78a4 4 0 0 1 .73-2.57A4.08 4.08 0 0 1 13.93 0 4 4 0 0 1 17 1.15a.43.43 0 0 0 .46.12 8.68 8.68 0 0 0 2.2-.84l.2-.1a4.36 4.36 0 0 1-1.75 2.28A9 9 0 0 0 20.42 2l-.21.3a3.83 3.83 0 0 1-.23.3A8.45 8.45 0 0 1 18.5 4a.28.28 0 0 0-.13.27A12 12 0 0 1 17 10.18a11.8 11.8 0 0 1-3.37 4.11 11.17 11.17 0 0 1-4.39 2.06 12.53 12.53 0 0 1-4.44.22 11.87 11.87 0 0 1-4.74-1.73L0 14.79a8.6 8.6 0 0 0 6.16-1.74 4.28 4.28 0 0 1-3.91-2.91h.95a6.18 6.18 0 0 0 .89-.12A4.2 4.2 0 0 1 .8 5.88a4 4 0 0 0 1.81.49 4.23 4.23 0 0 1-1.78-3A4.07 4.07 0 0 1 1.38.79 12.06 12.06 0 0 0 10 5.18z\" id=\"iOjKBC.tif\"></path></svg></a>,\n",
       " <a class=\"jsx-494086174 icon\" href=\"https://www.linkedin.com/cws/share?url=https://www.datacamp.com/community/tutorials/data-table-r-tutorial\" rel=\"noopener noreferrer\" target=\"_blank\"><svg height=\"10\" viewbox=\"0 0 16.99 17\" xmlns=\"http://www.w3.org/2000/svg\"><path d=\"M3.85 17H.34V5.67h3.51zM2.07 4.18a2.09 2.09 0 1 1 2.08-2.09 2.08 2.08 0 0 1-2.08 2.09zM17 17h-3.5v-5.95c0-1.63-.62-2.54-1.91-2.54s-2.14.95-2.14 2.54V17H6.09V5.67h3.36v1.52a4 4 0 0 1 3.42-1.87c2.4 0 4.12 1.47 4.12 4.5V17z\"></path></svg></a>,\n",
       " <a class=\"jsx-1022557955 more\">+<!-- -->3</a>,\n",
       " <a class=\"jsx-379356511\" href=\"/community/tutorials/how-to-become-a-data-scientist\">Become A Data Scientist in 8 Steps: Infographic</a>,\n",
       " <a class=\"jsx-566588255\" href=\"/profile/karlijn\" target=\"_blank\"><div class=\"jsx-3208234818 Avatar\" style=\"background-image:url(https://res.cloudinary.com/dyd911kmh/image/fetch/t_avatar_thumbnail/https://assets.datacamp.com/users/avatars/000/494/311/square/Screenshot_2017-04-26_16.02.58.png?1493215479);border-radius:20px;min-width:40px;min-height:40px\"></div><div class=\"jsx-566588255 info\"><div class=\"jsx-566588255 name\">Karlijn Willems</div><div class=\"jsx-566588255 date\"><span>November 10th, 2014</span></div></div></a>,\n",
       " <a class=\"jsx-1022557955 more\">+<!-- -->3</a>,\n",
       " <a class=\"jsx-494086174 icon\" href=\"https://www.facebook.com/sharer.php?u=https://www.datacamp.com/community/tutorials/how-to-become-a-data-scientist\" rel=\"noopener noreferrer\" target=\"_blank\"><svg height=\"12\" viewbox=\"0 0 11.73 22.58\" xmlns=\"http://www.w3.org/2000/svg\"><path d=\"M7.61 22.58v-10.3h3.46l.52-4h-4V5.7c0-1.16.32-2 2-2h2.13V.16A28.47 28.47 0 0 0 8.63 0C5.56 0 3.47 1.87 3.47 5.31v3H0v4h3.47v10.3h4.14z\"></path></svg></a>,\n",
       " <a class=\"jsx-494086174 icon centerIcon\" href=\"https://twitter.com/intent/tweet?url=https://www.datacamp.com/community/tutorials/how-to-become-a-data-scientist\" rel=\"noopener noreferrer\" target=\"_blank\"><svg height=\"10\" viewbox=\"0 0 20.42 16.67\" xmlns=\"http://www.w3.org/2000/svg\"><path d=\"M10 5.18c0-.28-.06-.53-.07-.78a4 4 0 0 1 .73-2.57A4.08 4.08 0 0 1 13.93 0 4 4 0 0 1 17 1.15a.43.43 0 0 0 .46.12 8.68 8.68 0 0 0 2.2-.84l.2-.1a4.36 4.36 0 0 1-1.75 2.28A9 9 0 0 0 20.42 2l-.21.3a3.83 3.83 0 0 1-.23.3A8.45 8.45 0 0 1 18.5 4a.28.28 0 0 0-.13.27A12 12 0 0 1 17 10.18a11.8 11.8 0 0 1-3.37 4.11 11.17 11.17 0 0 1-4.39 2.06 12.53 12.53 0 0 1-4.44.22 11.87 11.87 0 0 1-4.74-1.73L0 14.79a8.6 8.6 0 0 0 6.16-1.74 4.28 4.28 0 0 1-3.91-2.91h.95a6.18 6.18 0 0 0 .89-.12A4.2 4.2 0 0 1 .8 5.88a4 4 0 0 0 1.81.49 4.23 4.23 0 0 1-1.78-3A4.07 4.07 0 0 1 1.38.79 12.06 12.06 0 0 0 10 5.18z\" id=\"iOjKBC.tif\"></path></svg></a>,\n",
       " <a class=\"jsx-494086174 icon\" href=\"https://www.linkedin.com/cws/share?url=https://www.datacamp.com/community/tutorials/how-to-become-a-data-scientist\" rel=\"noopener noreferrer\" target=\"_blank\"><svg height=\"10\" viewbox=\"0 0 16.99 17\" xmlns=\"http://www.w3.org/2000/svg\"><path d=\"M3.85 17H.34V5.67h3.51zM2.07 4.18a2.09 2.09 0 1 1 2.08-2.09 2.08 2.08 0 0 1-2.08 2.09zM17 17h-3.5v-5.95c0-1.63-.62-2.54-1.91-2.54s-2.14.95-2.14 2.54V17H6.09V5.67h3.36v1.52a4 4 0 0 1 3.42-1.87c2.4 0 4.12 1.47 4.12 4.5V17z\"></path></svg></a>,\n",
       " <a class=\"jsx-1022557955 more\">+<!-- -->1</a>,\n",
       " <a class=\"jsx-379356511\" href=\"/community/tutorials/package-rankings-task-view-rankings-and-much-more-the-rdocumentation-poster\">The RDocumentation Poster</a>,\n",
       " <a class=\"jsx-566588255\" href=\"/profile/karlijn\" target=\"_blank\"><div class=\"jsx-3208234818 Avatar\" style=\"background-image:url(https://res.cloudinary.com/dyd911kmh/image/fetch/t_avatar_thumbnail/https://assets.datacamp.com/users/avatars/000/494/311/square/Screenshot_2017-04-26_16.02.58.png?1493215479);border-radius:20px;min-width:40px;min-height:40px\"></div><div class=\"jsx-566588255 info\"><div class=\"jsx-566588255 name\">Karlijn Willems</div><div class=\"jsx-566588255 date\"><span>August 4th, 2014</span></div></div></a>,\n",
       " <a class=\"jsx-1022557955 more\">+<!-- -->1</a>,\n",
       " <a class=\"jsx-494086174 icon\" href=\"https://www.facebook.com/sharer.php?u=https://www.datacamp.com/community/tutorials/package-rankings-task-view-rankings-and-much-more-the-rdocumentation-poster\" rel=\"noopener noreferrer\" target=\"_blank\"><svg height=\"12\" viewbox=\"0 0 11.73 22.58\" xmlns=\"http://www.w3.org/2000/svg\"><path d=\"M7.61 22.58v-10.3h3.46l.52-4h-4V5.7c0-1.16.32-2 2-2h2.13V.16A28.47 28.47 0 0 0 8.63 0C5.56 0 3.47 1.87 3.47 5.31v3H0v4h3.47v10.3h4.14z\"></path></svg></a>,\n",
       " <a class=\"jsx-494086174 icon centerIcon\" href=\"https://twitter.com/intent/tweet?url=https://www.datacamp.com/community/tutorials/package-rankings-task-view-rankings-and-much-more-the-rdocumentation-poster\" rel=\"noopener noreferrer\" target=\"_blank\"><svg height=\"10\" viewbox=\"0 0 20.42 16.67\" xmlns=\"http://www.w3.org/2000/svg\"><path d=\"M10 5.18c0-.28-.06-.53-.07-.78a4 4 0 0 1 .73-2.57A4.08 4.08 0 0 1 13.93 0 4 4 0 0 1 17 1.15a.43.43 0 0 0 .46.12 8.68 8.68 0 0 0 2.2-.84l.2-.1a4.36 4.36 0 0 1-1.75 2.28A9 9 0 0 0 20.42 2l-.21.3a3.83 3.83 0 0 1-.23.3A8.45 8.45 0 0 1 18.5 4a.28.28 0 0 0-.13.27A12 12 0 0 1 17 10.18a11.8 11.8 0 0 1-3.37 4.11 11.17 11.17 0 0 1-4.39 2.06 12.53 12.53 0 0 1-4.44.22 11.87 11.87 0 0 1-4.74-1.73L0 14.79a8.6 8.6 0 0 0 6.16-1.74 4.28 4.28 0 0 1-3.91-2.91h.95a6.18 6.18 0 0 0 .89-.12A4.2 4.2 0 0 1 .8 5.88a4 4 0 0 0 1.81.49 4.23 4.23 0 0 1-1.78-3A4.07 4.07 0 0 1 1.38.79 12.06 12.06 0 0 0 10 5.18z\" id=\"iOjKBC.tif\"></path></svg></a>,\n",
       " <a class=\"jsx-494086174 icon\" href=\"https://www.linkedin.com/cws/share?url=https://www.datacamp.com/community/tutorials/package-rankings-task-view-rankings-and-much-more-the-rdocumentation-poster\" rel=\"noopener noreferrer\" target=\"_blank\"><svg height=\"10\" viewbox=\"0 0 16.99 17\" xmlns=\"http://www.w3.org/2000/svg\"><path d=\"M3.85 17H.34V5.67h3.51zM2.07 4.18a2.09 2.09 0 1 1 2.08-2.09 2.08 2.08 0 0 1-2.08 2.09zM17 17h-3.5v-5.95c0-1.63-.62-2.54-1.91-2.54s-2.14.95-2.14 2.54V17H6.09V5.67h3.36v1.52a4 4 0 0 1 3.42-1.87c2.4 0 4.12 1.47 4.12 4.5V17z\"></path></svg></a>,\n",
       " <a class=\"jsx-1022557955 more\">+<!-- -->2</a>,\n",
       " <a class=\"jsx-379356511\" href=\"/community/tutorials/decimal-comma-or-decimal-point-a-googlevis-visualization\">Decimal Comma or Point? A googleVis visualization</a>,\n",
       " <a class=\"jsx-566588255\" href=\"/profile/karlijn\" target=\"_blank\"><div class=\"jsx-3208234818 Avatar\" style=\"background-image:url(https://res.cloudinary.com/dyd911kmh/image/fetch/t_avatar_thumbnail/https://assets.datacamp.com/users/avatars/000/494/311/square/Screenshot_2017-04-26_16.02.58.png?1493215479);border-radius:20px;min-width:40px;min-height:40px\"></div><div class=\"jsx-566588255 info\"><div class=\"jsx-566588255 name\">Karlijn Willems</div><div class=\"jsx-566588255 date\"><span>June 9th, 2014</span></div></div></a>,\n",
       " <a class=\"jsx-1022557955 more\">+<!-- -->2</a>,\n",
       " <a class=\"jsx-494086174 icon\" href=\"https://www.facebook.com/sharer.php?u=https://www.datacamp.com/community/tutorials/decimal-comma-or-decimal-point-a-googlevis-visualization\" rel=\"noopener noreferrer\" target=\"_blank\"><svg height=\"12\" viewbox=\"0 0 11.73 22.58\" xmlns=\"http://www.w3.org/2000/svg\"><path d=\"M7.61 22.58v-10.3h3.46l.52-4h-4V5.7c0-1.16.32-2 2-2h2.13V.16A28.47 28.47 0 0 0 8.63 0C5.56 0 3.47 1.87 3.47 5.31v3H0v4h3.47v10.3h4.14z\"></path></svg></a>,\n",
       " <a class=\"jsx-494086174 icon centerIcon\" href=\"https://twitter.com/intent/tweet?url=https://www.datacamp.com/community/tutorials/decimal-comma-or-decimal-point-a-googlevis-visualization\" rel=\"noopener noreferrer\" target=\"_blank\"><svg height=\"10\" viewbox=\"0 0 20.42 16.67\" xmlns=\"http://www.w3.org/2000/svg\"><path d=\"M10 5.18c0-.28-.06-.53-.07-.78a4 4 0 0 1 .73-2.57A4.08 4.08 0 0 1 13.93 0 4 4 0 0 1 17 1.15a.43.43 0 0 0 .46.12 8.68 8.68 0 0 0 2.2-.84l.2-.1a4.36 4.36 0 0 1-1.75 2.28A9 9 0 0 0 20.42 2l-.21.3a3.83 3.83 0 0 1-.23.3A8.45 8.45 0 0 1 18.5 4a.28.28 0 0 0-.13.27A12 12 0 0 1 17 10.18a11.8 11.8 0 0 1-3.37 4.11 11.17 11.17 0 0 1-4.39 2.06 12.53 12.53 0 0 1-4.44.22 11.87 11.87 0 0 1-4.74-1.73L0 14.79a8.6 8.6 0 0 0 6.16-1.74 4.28 4.28 0 0 1-3.91-2.91h.95a6.18 6.18 0 0 0 .89-.12A4.2 4.2 0 0 1 .8 5.88a4 4 0 0 0 1.81.49 4.23 4.23 0 0 1-1.78-3A4.07 4.07 0 0 1 1.38.79 12.06 12.06 0 0 0 10 5.18z\" id=\"iOjKBC.tif\"></path></svg></a>,\n",
       " <a class=\"jsx-494086174 icon\" href=\"https://www.linkedin.com/cws/share?url=https://www.datacamp.com/community/tutorials/decimal-comma-or-decimal-point-a-googlevis-visualization\" rel=\"noopener noreferrer\" target=\"_blank\"><svg height=\"10\" viewbox=\"0 0 16.99 17\" xmlns=\"http://www.w3.org/2000/svg\"><path d=\"M3.85 17H.34V5.67h3.51zM2.07 4.18a2.09 2.09 0 1 1 2.08-2.09 2.08 2.08 0 0 1-2.08 2.09zM17 17h-3.5v-5.95c0-1.63-.62-2.54-1.91-2.54s-2.14.95-2.14 2.54V17H6.09V5.67h3.36v1.52a4 4 0 0 1 3.42-1.87c2.4 0 4.12 1.47 4.12 4.5V17z\"></path></svg></a>,\n",
       " <a class=\"jsx-1022557955 more\">+<!-- -->3</a>,\n",
       " <a class=\"jsx-379356511\" href=\"/community/tutorials/statistical-language-wars-the-infograph\">What Is the Best Statistical Programming Language? Infograph</a>,\n",
       " <a class=\"jsx-566588255\" href=\"/profile/karlijn\" target=\"_blank\"><div class=\"jsx-3208234818 Avatar\" style=\"background-image:url(https://res.cloudinary.com/dyd911kmh/image/fetch/t_avatar_thumbnail/https://assets.datacamp.com/users/avatars/000/494/311/square/Screenshot_2017-04-26_16.02.58.png?1493215479);border-radius:20px;min-width:40px;min-height:40px\"></div><div class=\"jsx-566588255 info\"><div class=\"jsx-566588255 name\">Karlijn Willems</div><div class=\"jsx-566588255 date\"><span>June 3rd, 2014</span></div></div></a>,\n",
       " <a class=\"jsx-1022557955 more\">+<!-- -->3</a>,\n",
       " <a class=\"jsx-494086174 icon\" href=\"https://www.facebook.com/sharer.php?u=https://www.datacamp.com/community/tutorials/statistical-language-wars-the-infograph\" rel=\"noopener noreferrer\" target=\"_blank\"><svg height=\"12\" viewbox=\"0 0 11.73 22.58\" xmlns=\"http://www.w3.org/2000/svg\"><path d=\"M7.61 22.58v-10.3h3.46l.52-4h-4V5.7c0-1.16.32-2 2-2h2.13V.16A28.47 28.47 0 0 0 8.63 0C5.56 0 3.47 1.87 3.47 5.31v3H0v4h3.47v10.3h4.14z\"></path></svg></a>,\n",
       " <a class=\"jsx-494086174 icon centerIcon\" href=\"https://twitter.com/intent/tweet?url=https://www.datacamp.com/community/tutorials/statistical-language-wars-the-infograph\" rel=\"noopener noreferrer\" target=\"_blank\"><svg height=\"10\" viewbox=\"0 0 20.42 16.67\" xmlns=\"http://www.w3.org/2000/svg\"><path d=\"M10 5.18c0-.28-.06-.53-.07-.78a4 4 0 0 1 .73-2.57A4.08 4.08 0 0 1 13.93 0 4 4 0 0 1 17 1.15a.43.43 0 0 0 .46.12 8.68 8.68 0 0 0 2.2-.84l.2-.1a4.36 4.36 0 0 1-1.75 2.28A9 9 0 0 0 20.42 2l-.21.3a3.83 3.83 0 0 1-.23.3A8.45 8.45 0 0 1 18.5 4a.28.28 0 0 0-.13.27A12 12 0 0 1 17 10.18a11.8 11.8 0 0 1-3.37 4.11 11.17 11.17 0 0 1-4.39 2.06 12.53 12.53 0 0 1-4.44.22 11.87 11.87 0 0 1-4.74-1.73L0 14.79a8.6 8.6 0 0 0 6.16-1.74 4.28 4.28 0 0 1-3.91-2.91h.95a6.18 6.18 0 0 0 .89-.12A4.2 4.2 0 0 1 .8 5.88a4 4 0 0 0 1.81.49 4.23 4.23 0 0 1-1.78-3A4.07 4.07 0 0 1 1.38.79 12.06 12.06 0 0 0 10 5.18z\" id=\"iOjKBC.tif\"></path></svg></a>,\n",
       " <a class=\"jsx-494086174 icon\" href=\"https://www.linkedin.com/cws/share?url=https://www.datacamp.com/community/tutorials/statistical-language-wars-the-infograph\" rel=\"noopener noreferrer\" target=\"_blank\"><svg height=\"10\" viewbox=\"0 0 16.99 17\" xmlns=\"http://www.w3.org/2000/svg\"><path d=\"M3.85 17H.34V5.67h3.51zM2.07 4.18a2.09 2.09 0 1 1 2.08-2.09 2.08 2.08 0 0 1-2.08 2.09zM17 17h-3.5v-5.95c0-1.63-.62-2.54-1.91-2.54s-2.14.95-2.14 2.54V17H6.09V5.67h3.36v1.52a4 4 0 0 1 3.42-1.87c2.4 0 4.12 1.47 4.12 4.5V17z\"></path></svg></a>,\n",
       " <a class=\"jsx-1022557955 more\">+<!-- -->1</a>,\n",
       " <a class=\"jsx-379356511\" href=\"/community/tutorials/data-science-cartoons\">Data Science Cartoons: a Top Seven List by DataCamp</a>,\n",
       " <a class=\"jsx-566588255\" href=\"/profile/karlijn\" target=\"_blank\"><div class=\"jsx-3208234818 Avatar\" style=\"background-image:url(https://res.cloudinary.com/dyd911kmh/image/fetch/t_avatar_thumbnail/https://assets.datacamp.com/users/avatars/000/494/311/square/Screenshot_2017-04-26_16.02.58.png?1493215479);border-radius:20px;min-width:40px;min-height:40px\"></div><div class=\"jsx-566588255 info\"><div class=\"jsx-566588255 name\">Karlijn Willems</div><div class=\"jsx-566588255 date\"><span>March 31st, 2014</span></div></div></a>,\n",
       " <a class=\"jsx-1022557955 more\">+<!-- -->1</a>,\n",
       " <a class=\"jsx-494086174 icon\" href=\"https://www.facebook.com/sharer.php?u=https://www.datacamp.com/community/tutorials/data-science-cartoons\" rel=\"noopener noreferrer\" target=\"_blank\"><svg height=\"12\" viewbox=\"0 0 11.73 22.58\" xmlns=\"http://www.w3.org/2000/svg\"><path d=\"M7.61 22.58v-10.3h3.46l.52-4h-4V5.7c0-1.16.32-2 2-2h2.13V.16A28.47 28.47 0 0 0 8.63 0C5.56 0 3.47 1.87 3.47 5.31v3H0v4h3.47v10.3h4.14z\"></path></svg></a>,\n",
       " <a class=\"jsx-494086174 icon centerIcon\" href=\"https://twitter.com/intent/tweet?url=https://www.datacamp.com/community/tutorials/data-science-cartoons\" rel=\"noopener noreferrer\" target=\"_blank\"><svg height=\"10\" viewbox=\"0 0 20.42 16.67\" xmlns=\"http://www.w3.org/2000/svg\"><path d=\"M10 5.18c0-.28-.06-.53-.07-.78a4 4 0 0 1 .73-2.57A4.08 4.08 0 0 1 13.93 0 4 4 0 0 1 17 1.15a.43.43 0 0 0 .46.12 8.68 8.68 0 0 0 2.2-.84l.2-.1a4.36 4.36 0 0 1-1.75 2.28A9 9 0 0 0 20.42 2l-.21.3a3.83 3.83 0 0 1-.23.3A8.45 8.45 0 0 1 18.5 4a.28.28 0 0 0-.13.27A12 12 0 0 1 17 10.18a11.8 11.8 0 0 1-3.37 4.11 11.17 11.17 0 0 1-4.39 2.06 12.53 12.53 0 0 1-4.44.22 11.87 11.87 0 0 1-4.74-1.73L0 14.79a8.6 8.6 0 0 0 6.16-1.74 4.28 4.28 0 0 1-3.91-2.91h.95a6.18 6.18 0 0 0 .89-.12A4.2 4.2 0 0 1 .8 5.88a4 4 0 0 0 1.81.49 4.23 4.23 0 0 1-1.78-3A4.07 4.07 0 0 1 1.38.79 12.06 12.06 0 0 0 10 5.18z\" id=\"iOjKBC.tif\"></path></svg></a>,\n",
       " <a class=\"jsx-494086174 icon\" href=\"https://www.linkedin.com/cws/share?url=https://www.datacamp.com/community/tutorials/data-science-cartoons\" rel=\"noopener noreferrer\" target=\"_blank\"><svg height=\"10\" viewbox=\"0 0 16.99 17\" xmlns=\"http://www.w3.org/2000/svg\"><path d=\"M3.85 17H.34V5.67h3.51zM2.07 4.18a2.09 2.09 0 1 1 2.08-2.09 2.08 2.08 0 0 1-2.08 2.09zM17 17h-3.5v-5.95c0-1.63-.62-2.54-1.91-2.54s-2.14.95-2.14 2.54V17H6.09V5.67h3.36v1.52a4 4 0 0 1 3.42-1.87c2.4 0 4.12 1.47 4.12 4.5V17z\"></path></svg></a>,\n",
       " <a class=\"jsx-1022557955 more\">+<!-- -->1</a>,\n",
       " <a class=\"jsx-379356511\" href=\"/community/tutorials/the-stack-overflow-r-top-5\">R posts on Stack Overflow | A Top 5 selection by DataCamp</a>,\n",
       " <a class=\"jsx-566588255\" href=\"/profile/karlijn\" target=\"_blank\"><div class=\"jsx-3208234818 Avatar\" style=\"background-image:url(https://res.cloudinary.com/dyd911kmh/image/fetch/t_avatar_thumbnail/https://assets.datacamp.com/users/avatars/000/494/311/square/Screenshot_2017-04-26_16.02.58.png?1493215479);border-radius:20px;min-width:40px;min-height:40px\"></div><div class=\"jsx-566588255 info\"><div class=\"jsx-566588255 name\">Karlijn Willems</div><div class=\"jsx-566588255 date\"><span>March 17th, 2014</span></div></div></a>,\n",
       " <a class=\"jsx-1022557955 more\">+<!-- -->1</a>,\n",
       " <a class=\"jsx-494086174 icon\" href=\"https://www.facebook.com/sharer.php?u=https://www.datacamp.com/community/tutorials/the-stack-overflow-r-top-5\" rel=\"noopener noreferrer\" target=\"_blank\"><svg height=\"12\" viewbox=\"0 0 11.73 22.58\" xmlns=\"http://www.w3.org/2000/svg\"><path d=\"M7.61 22.58v-10.3h3.46l.52-4h-4V5.7c0-1.16.32-2 2-2h2.13V.16A28.47 28.47 0 0 0 8.63 0C5.56 0 3.47 1.87 3.47 5.31v3H0v4h3.47v10.3h4.14z\"></path></svg></a>,\n",
       " <a class=\"jsx-494086174 icon centerIcon\" href=\"https://twitter.com/intent/tweet?url=https://www.datacamp.com/community/tutorials/the-stack-overflow-r-top-5\" rel=\"noopener noreferrer\" target=\"_blank\"><svg height=\"10\" viewbox=\"0 0 20.42 16.67\" xmlns=\"http://www.w3.org/2000/svg\"><path d=\"M10 5.18c0-.28-.06-.53-.07-.78a4 4 0 0 1 .73-2.57A4.08 4.08 0 0 1 13.93 0 4 4 0 0 1 17 1.15a.43.43 0 0 0 .46.12 8.68 8.68 0 0 0 2.2-.84l.2-.1a4.36 4.36 0 0 1-1.75 2.28A9 9 0 0 0 20.42 2l-.21.3a3.83 3.83 0 0 1-.23.3A8.45 8.45 0 0 1 18.5 4a.28.28 0 0 0-.13.27A12 12 0 0 1 17 10.18a11.8 11.8 0 0 1-3.37 4.11 11.17 11.17 0 0 1-4.39 2.06 12.53 12.53 0 0 1-4.44.22 11.87 11.87 0 0 1-4.74-1.73L0 14.79a8.6 8.6 0 0 0 6.16-1.74 4.28 4.28 0 0 1-3.91-2.91h.95a6.18 6.18 0 0 0 .89-.12A4.2 4.2 0 0 1 .8 5.88a4 4 0 0 0 1.81.49 4.23 4.23 0 0 1-1.78-3A4.07 4.07 0 0 1 1.38.79 12.06 12.06 0 0 0 10 5.18z\" id=\"iOjKBC.tif\"></path></svg></a>,\n",
       " <a class=\"jsx-494086174 icon\" href=\"https://www.linkedin.com/cws/share?url=https://www.datacamp.com/community/tutorials/the-stack-overflow-r-top-5\" rel=\"noopener noreferrer\" target=\"_blank\"><svg height=\"10\" viewbox=\"0 0 16.99 17\" xmlns=\"http://www.w3.org/2000/svg\"><path d=\"M3.85 17H.34V5.67h3.51zM2.07 4.18a2.09 2.09 0 1 1 2.08-2.09 2.08 2.08 0 0 1-2.08 2.09zM17 17h-3.5v-5.95c0-1.63-.62-2.54-1.91-2.54s-2.14.95-2.14 2.54V17H6.09V5.67h3.36v1.52a4 4 0 0 1 3.42-1.87c2.4 0 4.12 1.47 4.12 4.5V17z\"></path></svg></a>,\n",
       " <a class=\"jsx-1022557955 more\">+<!-- -->1</a>,\n",
       " <a class=\"jsx-379356511\" href=\"/community/tutorials/complete-list-of-coursera-courses-using-r-ranked-by-popularity\">Coursera Courses on R: Complete List Ranked by “Popularity”</a>,\n",
       " <a class=\"jsx-566588255\" href=\"/profile/karlijn\" target=\"_blank\"><div class=\"jsx-3208234818 Avatar\" style=\"background-image:url(https://res.cloudinary.com/dyd911kmh/image/fetch/t_avatar_thumbnail/https://assets.datacamp.com/users/avatars/000/494/311/square/Screenshot_2017-04-26_16.02.58.png?1493215479);border-radius:20px;min-width:40px;min-height:40px\"></div><div class=\"jsx-566588255 info\"><div class=\"jsx-566588255 name\">Karlijn Willems</div><div class=\"jsx-566588255 date\"><span>December 4th, 2013</span></div></div></a>,\n",
       " <a class=\"jsx-1022557955 more\">+<!-- -->1</a>,\n",
       " <a class=\"jsx-494086174 icon\" href=\"https://www.facebook.com/sharer.php?u=https://www.datacamp.com/community/tutorials/complete-list-of-coursera-courses-using-r-ranked-by-popularity\" rel=\"noopener noreferrer\" target=\"_blank\"><svg height=\"12\" viewbox=\"0 0 11.73 22.58\" xmlns=\"http://www.w3.org/2000/svg\"><path d=\"M7.61 22.58v-10.3h3.46l.52-4h-4V5.7c0-1.16.32-2 2-2h2.13V.16A28.47 28.47 0 0 0 8.63 0C5.56 0 3.47 1.87 3.47 5.31v3H0v4h3.47v10.3h4.14z\"></path></svg></a>,\n",
       " <a class=\"jsx-494086174 icon centerIcon\" href=\"https://twitter.com/intent/tweet?url=https://www.datacamp.com/community/tutorials/complete-list-of-coursera-courses-using-r-ranked-by-popularity\" rel=\"noopener noreferrer\" target=\"_blank\"><svg height=\"10\" viewbox=\"0 0 20.42 16.67\" xmlns=\"http://www.w3.org/2000/svg\"><path d=\"M10 5.18c0-.28-.06-.53-.07-.78a4 4 0 0 1 .73-2.57A4.08 4.08 0 0 1 13.93 0 4 4 0 0 1 17 1.15a.43.43 0 0 0 .46.12 8.68 8.68 0 0 0 2.2-.84l.2-.1a4.36 4.36 0 0 1-1.75 2.28A9 9 0 0 0 20.42 2l-.21.3a3.83 3.83 0 0 1-.23.3A8.45 8.45 0 0 1 18.5 4a.28.28 0 0 0-.13.27A12 12 0 0 1 17 10.18a11.8 11.8 0 0 1-3.37 4.11 11.17 11.17 0 0 1-4.39 2.06 12.53 12.53 0 0 1-4.44.22 11.87 11.87 0 0 1-4.74-1.73L0 14.79a8.6 8.6 0 0 0 6.16-1.74 4.28 4.28 0 0 1-3.91-2.91h.95a6.18 6.18 0 0 0 .89-.12A4.2 4.2 0 0 1 .8 5.88a4 4 0 0 0 1.81.49 4.23 4.23 0 0 1-1.78-3A4.07 4.07 0 0 1 1.38.79 12.06 12.06 0 0 0 10 5.18z\" id=\"iOjKBC.tif\"></path></svg></a>,\n",
       " <a class=\"jsx-494086174 icon\" href=\"https://www.linkedin.com/cws/share?url=https://www.datacamp.com/community/tutorials/complete-list-of-coursera-courses-using-r-ranked-by-popularity\" rel=\"noopener noreferrer\" target=\"_blank\"><svg height=\"10\" viewbox=\"0 0 16.99 17\" xmlns=\"http://www.w3.org/2000/svg\"><path d=\"M3.85 17H.34V5.67h3.51zM2.07 4.18a2.09 2.09 0 1 1 2.08-2.09 2.08 2.08 0 0 1-2.08 2.09zM17 17h-3.5v-5.95c0-1.63-.62-2.54-1.91-2.54s-2.14.95-2.14 2.54V17H6.09V5.67h3.36v1.52a4 4 0 0 1 3.42-1.87c2.4 0 4.12 1.47 4.12 4.5V17z\"></path></svg></a>,\n",
       " <a href=\"/community/tutorials\">1</a>,\n",
       " <a href=\"/community/tutorials?page=18\">18</a>,\n",
       " <a href=\"/community/tutorials?page=19\">19</a>,\n",
       " <a href=\"/community/tutorials?page=20\">20</a>,\n",
       " <a href=\"/community/tutorials?page=21\">21</a>,\n",
       " <a href=\"/community/tutorials?page=22\">22</a>,\n",
       " <a href=\"/community/tutorials?page=23\">23</a>,\n",
       " <a href=\"/community/tutorials?page=24\">24</a>,\n",
       " <a class=\"jsx-2506565400\" href=\"/community/rss.xml\"><svg height=\"13\" viewbox=\"0 0 18 18\" xmlns=\"http://www.w3.org/2000/svg\"><circle cx=\"3.08\" cy=\"14.92\" r=\"3.08\"></circle><path d=\"M16.46 18a1.54 1.54 0 0 1-1.54-1.54c0-8.25-5.13-13.38-13.38-13.38A1.59 1.59 0 0 1 .46 1.15 1.72 1.72 0 0 1 1.54 0a16.45 16.45 0 0 1 12 4.51c3 2.95 4.51 7.08 4.51 12A1.54 1.54 0 0 1 16.46 18z\"></path><path d=\"M10.63 18a1.54 1.54 0 0 1-1.54-1.54c0-5-2.54-7.54-7.54-7.54a1.54 1.54 0 0 1 0-3.08c6.75 0 10.63 3.87 10.63 10.62A1.54 1.54 0 0 1 10.63 18z\"></path></svg>Subscribe to RSS</a>,\n",
       " <a class=\"jsx-2506565400 icon\" href=\"https://www.facebook.com/pages/DataCamp/726282547396228\" rel=\"noopener noreferrer\" target=\"_blank\"><svg height=\"16\" viewbox=\"0 0 11.73 22.58\" xmlns=\"http://www.w3.org/2000/svg\"><path d=\"M7.61 22.58v-10.3h3.46l.52-4h-4V5.7c0-1.16.32-2 2-2h2.13V.16A28.47 28.47 0 0 0 8.63 0C5.56 0 3.47 1.87 3.47 5.31v3H0v4h3.47v10.3h4.14z\"></path></svg></a>,\n",
       " <a class=\"jsx-2506565400 icon\" href=\"https://twitter.com/datacamp\" rel=\"noopener noreferrer\" target=\"_blank\"><svg height=\"13\" viewbox=\"0 0 20.42 16.67\" xmlns=\"http://www.w3.org/2000/svg\"><path d=\"M10 5.18c0-.28-.06-.53-.07-.78a4 4 0 0 1 .73-2.57A4.08 4.08 0 0 1 13.93 0 4 4 0 0 1 17 1.15a.43.43 0 0 0 .46.12 8.68 8.68 0 0 0 2.2-.84l.2-.1a4.36 4.36 0 0 1-1.75 2.28A9 9 0 0 0 20.42 2l-.21.3a3.83 3.83 0 0 1-.23.3A8.45 8.45 0 0 1 18.5 4a.28.28 0 0 0-.13.27A12 12 0 0 1 17 10.18a11.8 11.8 0 0 1-3.37 4.11 11.17 11.17 0 0 1-4.39 2.06 12.53 12.53 0 0 1-4.44.22 11.87 11.87 0 0 1-4.74-1.73L0 14.79a8.6 8.6 0 0 0 6.16-1.74 4.28 4.28 0 0 1-3.91-2.91h.95a6.18 6.18 0 0 0 .89-.12A4.2 4.2 0 0 1 .8 5.88a4 4 0 0 0 1.81.49 4.23 4.23 0 0 1-1.78-3A4.07 4.07 0 0 1 1.38.79 12.06 12.06 0 0 0 10 5.18z\" id=\"iOjKBC.tif\"></path></svg></a>,\n",
       " <a class=\"jsx-2506565400 icon\" href=\"https://www.linkedin.com/company/datamind-org\" rel=\"noopener noreferrer\" target=\"_blank\"><svg height=\"12\" viewbox=\"0 0 16.99 17\" xmlns=\"http://www.w3.org/2000/svg\"><path d=\"M3.85 17H.34V5.67h3.51zM2.07 4.18a2.09 2.09 0 1 1 2.08-2.09 2.08 2.08 0 0 1-2.08 2.09zM17 17h-3.5v-5.95c0-1.63-.62-2.54-1.91-2.54s-2.14.95-2.14 2.54V17H6.09V5.67h3.36v1.52a4 4 0 0 1 3.42-1.87c2.4 0 4.12 1.47 4.12 4.5V17z\"></path></svg></a>,\n",
       " <a class=\"jsx-2506565400 icon\" href=\"https://www.youtube.com/channel/UC79Gv3mYp6zKiSwYemEik9A\" rel=\"noopener noreferrer\" target=\"_blank\"><svg height=\"12\" viewbox=\"0 0 25.19 17.73\" xmlns=\"http://www.w3.org/2000/svg\"><path d=\"M24.21 1.52C23.3.44 21.62 0 18.42 0H6.78C3.5 0 1.79.47.88 1.62S0 4.4 0 6.68V11c0 4.43 1 6.68 6.78 6.68h11.64c2.78 0 4.32-.39 5.32-1.34S25.2 13.76 25.2 11V6.68c-.01-2.41-.08-4.07-.99-5.16zm-8 7.94l-5.29 2.76a.81.81 0 0 1-1.19-.72V6a.81.81 0 0 1 1.19-.72L16.17 8a.81.81 0 0 1 0 1.44z\"></path></svg></a>,\n",
       " <a class=\"jsx-2506565400 menuItem\" href=\"/about\">About</a>,\n",
       " <a class=\"jsx-2506565400 menuItem\" href=\"/terms-of-use\">Terms</a>,\n",
       " <a class=\"jsx-2506565400 menuItem\" href=\"/privacy-policy\">Privacy</a>]"
      ]
     },
     "execution_count": 30,
     "metadata": {},
     "output_type": "execute_result"
    }
   ],
   "source": [
    "soup.find_all('a') "
   ]
  },
  {
   "cell_type": "code",
   "execution_count": 4,
   "metadata": {
    "slideshow": {
     "slide_type": "subslide"
    }
   },
   "outputs": [
    {
     "name": "stdout",
     "output_type": "stream",
     "text": [
      "24\n"
     ]
    }
   ],
   "source": [
    "print(lastpage)"
   ]
  },
  {
   "cell_type": "markdown",
   "metadata": {
    "slideshow": {
     "slide_type": "slide"
    }
   },
   "source": [
    "The illustration is as follows:\n",
    "\n",
    "    #1.Specified the url to a variable.\n",
    "    #2.Opened the url using urlopen which was imported earlier.\n",
    "    #3.Scraped the specified page and assigned it to soup variable.\n",
    "    #4.Identified all hyperlinks on the page using list comprehension.  \n",
    "    #5.filtered for those having community/tutorials?page= in it.\n",
    "    \n",
    "The text value of the last found url is the last page that needs to be scraped. \n",
    "\n",
    "### We proceed by declaring list variables that will hold the scraped values for the columns we intend as mentioned earlier."
   ]
  },
  {
   "cell_type": "code",
   "execution_count": 5,
   "metadata": {
    "slideshow": {
     "slide_type": "subslide"
    }
   },
   "outputs": [],
   "source": [
    "description=[]\n",
    "upvote=[]\n",
    "author=[]\n",
    "publishdate=[]\n",
    "title=[]"
   ]
  },
  {
   "cell_type": "markdown",
   "metadata": {
    "slideshow": {
     "slide_type": "subslide"
    }
   },
   "source": [
    "## Doing the Actual Scrape\n",
    "\n",
    "Now that we know how many pages we need to scrape and have declared our variables, we will now use a for loop and go through each page one by one to get our fields of interest as shown below. \n",
    "\n",
    "#### Note that we will end up having list of lists for each column of interest, but later we will be flattening the list further so that it can be used for Data Frames."
   ]
  },
  {
   "cell_type": "code",
   "execution_count": 7,
   "metadata": {
    "slideshow": {
     "slide_type": "subslide"
    }
   },
   "outputs": [
    {
     "name": "stdout",
     "output_type": "stream",
     "text": [
      "Done!\n"
     ]
    }
   ],
   "source": [
    "for cp in np.arange(1,int(lastpage)+1):\n",
    "    url = \"https://www.datacamp.com/community/tutorials?page=\" + str(cp)\n",
    "    html = urlopen(url)\n",
    "    soup = BeautifulSoup(html, 'lxml')\n",
    "    description.append([i.text for i in soup.find_all(class_='jsx-379356511 blocText description')])\n",
    "    upvote.append([i.text for i in soup.find_all(class_='jsx-1972554161 normal')])\n",
    "    author.append([i.text for i in soup.find_all(class_='jsx-566588255 name')])\n",
    "    publishdate.append([i.text for i in soup.find_all(class_='jsx-566588255 date')])\n",
    "    title.append([i.text for i in soup.find_all(class_='jsx-379356511 blue')])\n",
    "    time.sleep(3)\n",
    "print(\"Done!\")"
   ]
  },
  {
   "cell_type": "markdown",
   "metadata": {
    "slideshow": {
     "slide_type": "slide"
    }
   },
   "source": [
    "### Here is what happened in the above code segment;\n",
    "\n",
    "    Set the url to a variable\n",
    "    Opened the url using urlopen which was imported earlier\n",
    "    Scraped the specified page and assigned it to soup variable\n",
    "    Identified and extracted values for \n",
    "        Description,\n",
    "        Up Vote, \n",
    "        Author, \n",
    "        Publish Date, \n",
    "        Title \n",
    "by using their relevant class names. These class names were found using Developer Tools The time function has been used to be easy on the website this time :)\n"
   ]
  },
  {
   "cell_type": "markdown",
   "metadata": {
    "slideshow": {
     "slide_type": "slide"
    }
   },
   "source": [
    "### Flattening List of Lists\n",
    "\n",
    "Since the values we got are list of lists, they will now be flatted using the following code segment:"
   ]
  },
  {
   "cell_type": "code",
   "execution_count": 8,
   "metadata": {
    "slideshow": {
     "slide_type": "subslide"
    }
   },
   "outputs": [],
   "source": [
    "descriptionflat = [y for x in description for y in x]\n",
    "upvoteflat = [y for x in upvote for y in x]\n",
    "authorflat = [y for x in author for y in x]\n",
    "publishdateflat = [y for x in publishdate for y in x]\n",
    "titleflat = [y for x in title for y in x]\n",
    "publishdateformatted = [datetime.strptime(re.sub('rd, ', ', ', re.sub('st, ', ', ', re.sub('nd, ', ', ', re.sub('th, ',', ',a)))), \"%B %d, %Y\") for a in publishdateflat]"
   ]
  },
  {
   "cell_type": "markdown",
   "metadata": {
    "slideshow": {
     "slide_type": "slide"
    }
   },
   "source": [
    "The last statement in the cell above converts the date values (which are currently in String Format) to DateTime."
   ]
  },
  {
   "cell_type": "code",
   "execution_count": 38,
   "metadata": {
    "scrolled": true,
    "slideshow": {
     "slide_type": "subslide"
    }
   },
   "outputs": [
    {
     "name": "stdout",
     "output_type": "stream",
     "text": [
      "                                                           0    \\\n",
      "author                                           Aditya Sharma   \n",
      "publishdate                                2020-01-22 00:00:00   \n",
      "title                                          Data Types in R   \n",
      "description  Learn about data types and their importance in...   \n",
      "upvote                                                       6   \n",
      "\n",
      "                                                           1    \\\n",
      "author                                           DataCamp Team   \n",
      "publishdate                                2020-01-09 00:00:00   \n",
      "title        Choosing Python or R for Data Analysis? An Inf...   \n",
      "description  Wondering whether you should use Python or R f...   \n",
      "upvote                                                      19   \n",
      "\n",
      "                                                           2    \\\n",
      "author                                         Avinash Navlani   \n",
      "publishdate                                2020-01-08 00:00:00   \n",
      "title                   Time Series Analysis with Spreadsheets   \n",
      "description  In this tutorial, you'll learn basic time-seri...   \n",
      "upvote                                                       6   \n",
      "\n",
      "                                                           3    \\\n",
      "author                                           Sejal Jaiswal   \n",
      "publishdate                                2020-01-08 00:00:00   \n",
      "title                       Python Regular Expression Tutorial   \n",
      "description  Discover Python regular expressions: find basi...   \n",
      "upvote                                                     116   \n",
      "\n",
      "                                                           4    \\\n",
      "author                                             Sayak  Paul   \n",
      "publishdate                                2020-01-07 00:00:00   \n",
      "title                 Simplifying Sentiment Analysis in Python   \n",
      "description  Learn the basics of sentiment analysis and how...   \n",
      "upvote                                                      40   \n",
      "\n",
      "                                                           5    \\\n",
      "author                                           Manish Pathak   \n",
      "publishdate                                2020-01-06 00:00:00   \n",
      "title                      Handling Categorical Data in Python   \n",
      "description  Learn the common tricks to handle categorical ...   \n",
      "upvote                                                     119   \n",
      "\n",
      "                                                           6    \\\n",
      "author                                           Aditya Sharma   \n",
      "publishdate                                2020-01-06 00:00:00   \n",
      "title                                How to Run Python Scripts   \n",
      "description  Learn how you can execute a Python script from...   \n",
      "upvote                                                      19   \n",
      "\n",
      "                                                           7    \\\n",
      "author                                   Hafeezul Kareem Shaik   \n",
      "publishdate                                2020-01-03 00:00:00   \n",
      "title                                  Inner Classes in Python   \n",
      "description  In this basic Python tutorial, you'll learn ab...   \n",
      "upvote                                                       9   \n",
      "\n",
      "                                                           8    \\\n",
      "author                                         Karlijn Willems   \n",
      "publishdate                                2020-01-02 00:00:00   \n",
      "title                                Python Functions Tutorial   \n",
      "description  A tutorial on functions in Python that covers ...   \n",
      "upvote                                                      94   \n",
      "\n",
      "                                                           9    ...  \\\n",
      "author                                             Sayak  Paul  ...   \n",
      "publishdate                                2020-01-02 00:00:00  ...   \n",
      "title          Beginner's Guide to Feature Selection in Python  ...   \n",
      "description  Learn about the basics of feature selection an...  ...   \n",
      "upvote                                                      43  ...   \n",
      "\n",
      "                                                           345  \\\n",
      "author                                      Filip Schouwenaars   \n",
      "publishdate                                2015-03-16 00:00:00   \n",
      "title                        Web Scraping with R and PhantomJS   \n",
      "description  Short tutorial on scraping Javascript generate...   \n",
      "upvote                                                      10   \n",
      "\n",
      "                                                           346  \\\n",
      "author                                         Karlijn Willems   \n",
      "publishdate                                2015-03-04 00:00:00   \n",
      "title                                How to Speak Data Science   \n",
      "description  Data Science has its own language. This is a g...   \n",
      "upvote                                                      17   \n",
      "\n",
      "                                                           347  \\\n",
      "author                                         Karlijn Willems   \n",
      "publishdate                                2015-02-03 00:00:00   \n",
      "title          A data.table R Tutorial:  Intro to DT[i, j, by]   \n",
      "description  The free data.table R tutorial explains the ba...   \n",
      "upvote                                                       8   \n",
      "\n",
      "                                                           348  \\\n",
      "author                                         Karlijn Willems   \n",
      "publishdate                                2014-11-10 00:00:00   \n",
      "title          Become A Data Scientist in 8 Steps: Infographic   \n",
      "description  This DataCamp infographic outlines how you can...   \n",
      "upvote                                                      39   \n",
      "\n",
      "                                                           349  \\\n",
      "author                                         Karlijn Willems   \n",
      "publishdate                                2014-08-04 00:00:00   \n",
      "title                                The RDocumentation Poster   \n",
      "description  Rdocumentation.org is the only R documentation...   \n",
      "upvote                                                       2   \n",
      "\n",
      "                                                           350  \\\n",
      "author                                         Karlijn Willems   \n",
      "publishdate                                2014-06-09 00:00:00   \n",
      "title        Decimal Comma or Point? A googleVis visualization   \n",
      "description  Decimal comma or decimal point? A handy tool t...   \n",
      "upvote                                                       3   \n",
      "\n",
      "                                                           351  \\\n",
      "author                                         Karlijn Willems   \n",
      "publishdate                                2014-06-03 00:00:00   \n",
      "title        What Is the Best Statistical Programming Langu...   \n",
      "description  The infograph 'Statistical Language Wars' comp...   \n",
      "upvote                                                       6   \n",
      "\n",
      "                                                           352  \\\n",
      "author                                         Karlijn Willems   \n",
      "publishdate                                2014-03-31 00:00:00   \n",
      "title        Data Science Cartoons: a Top Seven List by Dat...   \n",
      "description  The 7 funniest data science cartoons on the we...   \n",
      "upvote                                                      10   \n",
      "\n",
      "                                                           353  \\\n",
      "author                                         Karlijn Willems   \n",
      "publishdate                                2014-03-17 00:00:00   \n",
      "title        R posts on Stack Overflow | A Top 5 selection ...   \n",
      "description  Stack Overflow is a useful resource for techni...   \n",
      "upvote                                                       4   \n",
      "\n",
      "                                                           354  \n",
      "author                                         Karlijn Willems  \n",
      "publishdate                                2013-12-04 00:00:00  \n",
      "title        Coursera Courses on R: Complete List Ranked by...  \n",
      "description  A list of all Coursera courses on R. These cou...  \n",
      "upvote                                                       5  \n",
      "\n",
      "[5 rows x 355 columns]\n"
     ]
    }
   ],
   "source": [
    "cdata = {\"author\":authorflat,\"publishdate\":publishdateformatted,\"title\":titleflat,\"description\":descriptionflat,\"upvote\":upvoteflat}\n",
    "df = pd.DataFrame.from_dict(cdata, orient='index')\n",
    "\n",
    "print(df)"
   ]
  },
  {
   "cell_type": "markdown",
   "metadata": {
    "slideshow": {
     "slide_type": "slide"
    }
   },
   "source": [
    "### Reading CSV File\n",
    "\n",
    "Now we are attempting to read into the collected dataset from the CSV file we just created."
   ]
  },
  {
   "cell_type": "code",
   "execution_count": 33,
   "metadata": {
    "slideshow": {
     "slide_type": "subslide"
    }
   },
   "outputs": [],
   "source": [
    "datacamp = pd.read_csv('/Users/derrickalford/Desktop/Programming/Python/datacamp130818.csv', parse_dates=[\"publishdate\"], infer_datetime_format=True)"
   ]
  },
  {
   "cell_type": "code",
   "execution_count": 34,
   "metadata": {
    "slideshow": {
     "slide_type": "subslide"
    }
   },
   "outputs": [
    {
     "data": {
      "text/plain": [
       "(710, 5)"
      ]
     },
     "execution_count": 34,
     "metadata": {},
     "output_type": "execute_result"
    }
   ],
   "source": [
    "datacamp.shape"
   ]
  },
  {
   "cell_type": "markdown",
   "metadata": {
    "slideshow": {
     "slide_type": "slide"
    }
   },
   "source": [
    "The above command tells us we're dealing with a dataset of 176 rows and 5 columns."
   ]
  },
  {
   "cell_type": "code",
   "execution_count": 35,
   "metadata": {
    "slideshow": {
     "slide_type": "subslide"
    }
   },
   "outputs": [
    {
     "data": {
      "text/html": [
       "<div>\n",
       "<style scoped>\n",
       "    .dataframe tbody tr th:only-of-type {\n",
       "        vertical-align: middle;\n",
       "    }\n",
       "\n",
       "    .dataframe tbody tr th {\n",
       "        vertical-align: top;\n",
       "    }\n",
       "\n",
       "    .dataframe thead th {\n",
       "        text-align: right;\n",
       "    }\n",
       "</style>\n",
       "<table border=\"1\" class=\"dataframe\">\n",
       "  <thead>\n",
       "    <tr style=\"text-align: right;\">\n",
       "      <th></th>\n",
       "      <th>author</th>\n",
       "      <th>publishdate</th>\n",
       "      <th>title</th>\n",
       "      <th>description</th>\n",
       "      <th>upvote</th>\n",
       "    </tr>\n",
       "  </thead>\n",
       "  <tbody>\n",
       "    <tr>\n",
       "      <td>0</td>\n",
       "      <td>DataCamp Team</td>\n",
       "      <td>2020-01-09</td>\n",
       "      <td>Choosing Python or R for Data Analysis? An Inf...</td>\n",
       "      <td>Wondering whether you should use Python or R f...</td>\n",
       "      <td>NaN</td>\n",
       "    </tr>\n",
       "    <tr>\n",
       "      <td>1</td>\n",
       "      <td>Avinash Navlani</td>\n",
       "      <td>2020-01-08</td>\n",
       "      <td>Time Series Analysis with Spreadsheets</td>\n",
       "      <td>In this tutorial, you'll learn basic time-seri...</td>\n",
       "      <td>NaN</td>\n",
       "    </tr>\n",
       "    <tr>\n",
       "      <td>2</td>\n",
       "      <td>Sejal Jaiswal</td>\n",
       "      <td>2020-01-08</td>\n",
       "      <td>Python Regular Expression Tutorial</td>\n",
       "      <td>Discover Python regular expressions: find basi...</td>\n",
       "      <td>NaN</td>\n",
       "    </tr>\n",
       "    <tr>\n",
       "      <td>3</td>\n",
       "      <td>Sayak  Paul</td>\n",
       "      <td>2020-01-07</td>\n",
       "      <td>Simplifying Sentiment Analysis in Python</td>\n",
       "      <td>Learn the basics of sentiment analysis and how...</td>\n",
       "      <td>NaN</td>\n",
       "    </tr>\n",
       "    <tr>\n",
       "      <td>4</td>\n",
       "      <td>Aditya Sharma</td>\n",
       "      <td>2020-01-06</td>\n",
       "      <td>How to Run Python Scripts</td>\n",
       "      <td>Learn how you can execute a Python script from...</td>\n",
       "      <td>NaN</td>\n",
       "    </tr>\n",
       "  </tbody>\n",
       "</table>\n",
       "</div>"
      ],
      "text/plain": [
       "            author publishdate  \\\n",
       "0    DataCamp Team  2020-01-09   \n",
       "1  Avinash Navlani  2020-01-08   \n",
       "2    Sejal Jaiswal  2020-01-08   \n",
       "3      Sayak  Paul  2020-01-07   \n",
       "4    Aditya Sharma  2020-01-06   \n",
       "\n",
       "                                               title  \\\n",
       "0  Choosing Python or R for Data Analysis? An Inf...   \n",
       "1             Time Series Analysis with Spreadsheets   \n",
       "2                 Python Regular Expression Tutorial   \n",
       "3           Simplifying Sentiment Analysis in Python   \n",
       "4                          How to Run Python Scripts   \n",
       "\n",
       "                                         description  upvote  \n",
       "0  Wondering whether you should use Python or R f...     NaN  \n",
       "1  In this tutorial, you'll learn basic time-seri...     NaN  \n",
       "2  Discover Python regular expressions: find basi...     NaN  \n",
       "3  Learn the basics of sentiment analysis and how...     NaN  \n",
       "4  Learn how you can execute a Python script from...     NaN  "
      ]
     },
     "execution_count": 35,
     "metadata": {},
     "output_type": "execute_result"
    }
   ],
   "source": [
    "datacamp.head()"
   ]
  },
  {
   "cell_type": "markdown",
   "metadata": {
    "slideshow": {
     "slide_type": "slide"
    }
   },
   "source": [
    "### Showing the first 5 rows of the dataset above using the head function."
   ]
  },
  {
   "cell_type": "code",
   "execution_count": 36,
   "metadata": {
    "slideshow": {
     "slide_type": "subslide"
    }
   },
   "outputs": [],
   "source": [
    "datacamp['publishyymm'] = datacamp['publishdate'].dt.strftime(\"%Y-%b\")\n",
    "datacamp[\"posts\"] = 1"
   ]
  },
  {
   "cell_type": "markdown",
   "metadata": {
    "slideshow": {
     "slide_type": "slide"
    }
   },
   "source": [
    "#### The first line in the above code section creates a new column with the publish date formatted as a Year-Month format.\n",
    "\n",
    "#### The second line assigns value 1 to a new column posts being used later.\n"
   ]
  },
  {
   "cell_type": "markdown",
   "metadata": {
    "slideshow": {
     "slide_type": "slide"
    }
   },
   "source": [
    "## Tutorials Count by Time\n",
    "\n",
    "Here we will organize the count of Tutorials over Timeline of Year and Month:"
   ]
  },
  {
   "cell_type": "code",
   "execution_count": 14,
   "metadata": {
    "slideshow": {
     "slide_type": "slide"
    }
   },
   "outputs": [
    {
     "data": {
      "text/plain": [
       "<matplotlib.axes._subplots.AxesSubplot at 0x1a1b4cce10>"
      ]
     },
     "execution_count": 14,
     "metadata": {},
     "output_type": "execute_result"
    },
    {
     "data": {
      "image/png": "[encoded data removed]",
      "text/plain": [
       "<Figure size 1080x504 with 1 Axes>"
      ]
     },
     "metadata": {
      "needs_background": "light"
     },
     "output_type": "display_data"
    }
   ],
   "source": [
    "datacamp.groupby([datacamp['publishdate'].dt.year, datacamp['publishdate'].dt.month]).size().plot(kind='bar', figsize=(15,7), color='b')"
   ]
  },
  {
   "cell_type": "markdown",
   "metadata": {
    "slideshow": {
     "slide_type": "slide"
    }
   },
   "source": [
    "## Since 2017 January\n",
    "\n",
    "Since the duration from 2013 till 2016 represents very few posts, we will be ignoring them from now and considering posts starting Jan 2017. A filter will be applied for that as shown below\n"
   ]
  },
  {
   "cell_type": "code",
   "execution_count": 15,
   "metadata": {
    "slideshow": {
     "slide_type": "slide"
    }
   },
   "outputs": [
    {
     "data": {
      "text/plain": [
       "<matplotlib.axes._subplots.AxesSubplot at 0x1a1ebf05d0>"
      ]
     },
     "execution_count": 15,
     "metadata": {},
     "output_type": "execute_result"
    },
    {
     "data": {
      "image/png": "[encoded data removed]",
      "text/plain": [
       "<Figure size 1080x504 with 1 Axes>"
      ]
     },
     "metadata": {
      "needs_background": "light"
     },
     "output_type": "display_data"
    }
   ],
   "source": [
    "datacamp[datacamp[\"publishdate\"]>='2017-01-01'].sort_values(by=\"publishdate\", ascending=True).groupby([datacamp['publishyymm']],sort=False).size().plot(kind='bar', figsize=(15,7), color='b')"
   ]
  },
  {
   "cell_type": "markdown",
   "metadata": {
    "slideshow": {
     "slide_type": "slide"
    }
   },
   "source": [
    "Tutorials have paced up in 2018 with especially starting March onwards with a consistent upwards pace. Since this data was pulled in mid-August and almost crossing the middle line of July's tutorials count, we might be having August as the month with highest posts so far this year!\n"
   ]
  },
  {
   "cell_type": "markdown",
   "metadata": {
    "slideshow": {
     "slide_type": "slide"
    }
   },
   "source": [
    "## Top Authors Graph\n",
    "\n",
    "While we're pacing up on all these tutorials, who have been contributing on them along the way? Here we go with a simple bar chart highlighting this very fact."
   ]
  },
  {
   "cell_type": "code",
   "execution_count": 16,
   "metadata": {
    "slideshow": {
     "slide_type": "slide"
    }
   },
   "outputs": [
    {
     "data": {
      "text/plain": [
       "<matplotlib.axes._subplots.AxesSubplot at 0x1a1ebdd6d0>"
      ]
     },
     "execution_count": 16,
     "metadata": {},
     "output_type": "execute_result"
    },
    {
     "data": {
      "image/png": "[encoded data removed]",
      "text/plain": [
       "<Figure size 432x288 with 1 Axes>"
      ]
     },
     "metadata": {
      "needs_background": "light"
     },
     "output_type": "display_data"
    }
   ],
   "source": [
    "datacamp[datacamp[\"publishdate\"]>='2017-01-01'][\"author\"].value_counts(sort=True, ascending=False)[:10].plot(kind='bar')"
   ]
  },
  {
   "cell_type": "markdown",
   "metadata": {
    "slideshow": {
     "slide_type": "slide"
    }
   },
   "source": [
    "### Top Authors List\n",
    "\n",
    "Let's build a list of these as well while we are at it. We'll be using this soon below:"
   ]
  },
  {
   "cell_type": "code",
   "execution_count": 17,
   "metadata": {
    "slideshow": {
     "slide_type": "subslide"
    }
   },
   "outputs": [],
   "source": [
    "topauthors = datacamp[datacamp[\"publishdate\"]>='2017-01-01'][\"author\"].value_counts(sort=True, ascending=False)[:10].index"
   ]
  },
  {
   "cell_type": "markdown",
   "metadata": {
    "slideshow": {
     "slide_type": "slide"
    }
   },
   "source": [
    "    This is what happened in the code section above.\n",
    "\n",
    "    Limited Result set to Tutorials since 2017 January\n",
    "\n",
    "    Select only Author field\n",
    "\n",
    "    Aggregated results using the value_counts function\n",
    "\n",
    "    Sorted the result set in descending order and limited it to the first 10 rows"
   ]
  },
  {
   "cell_type": "markdown",
   "metadata": {
    "slideshow": {
     "slide_type": "slide"
    }
   },
   "source": [
    "### Tutorials Paced over Timeline\n",
    "\n",
    "Now what we're going to focus on is since when and at what pace have these top 10 contributors been posting tutorials. For this, we will be using the list we just created along with some transformations to come up with a stacked bar chart that we need."
   ]
  },
  {
   "cell_type": "code",
   "execution_count": 18,
   "metadata": {
    "slideshow": {
     "slide_type": "subslide"
    }
   },
   "outputs": [],
   "source": [
    "dh = datacamp[datacamp[\"publishdate\"]>='2017-01-01'].sort_values(by=\"publishdate\", ascending=True).set_index([\"publishdate\"])"
   ]
  },
  {
   "cell_type": "code",
   "execution_count": 19,
   "metadata": {
    "slideshow": {
     "slide_type": "subslide"
    }
   },
   "outputs": [
    {
     "data": {
      "text/plain": [
       "Index(['author', 'publishdate', 'title', 'description', 'upvote',\n",
       "       'publishyymm', 'posts'],\n",
       "      dtype='object')"
      ]
     },
     "execution_count": 19,
     "metadata": {},
     "output_type": "execute_result"
    }
   ],
   "source": [
    "datacamp.columns"
   ]
  },
  {
   "cell_type": "code",
   "execution_count": 20,
   "metadata": {
    "slideshow": {
     "slide_type": "subslide"
    }
   },
   "outputs": [],
   "source": [
    "datacamp[\"publishdateone\"] = pd.to_datetime(datacamp.publishdate.astype(str).str[0:7]+'-01')"
   ]
  },
  {
   "cell_type": "markdown",
   "metadata": {
    "slideshow": {
     "slide_type": "slide"
    }
   },
   "source": [
    "This is what happened in the code section above.\n",
    "\n",
    "Limited Result set to Tutorials since 2017 January\n",
    "\n",
    "Sorted by Publish Date\n",
    "\n",
    "Making Publish Date as the Index column\n",
    "\n",
    "Now that we're going to visualize using a stacked bar chart, the data set will now be pivoted by having the date field as the Index, Posts as values which are to be aggregated, and Authors as columns."
   ]
  },
  {
   "cell_type": "code",
   "execution_count": 21,
   "metadata": {
    "slideshow": {
     "slide_type": "slide"
    }
   },
   "outputs": [
    {
     "data": {
      "image/png": "[encoded data removed]",
      "text/plain": [
       "<Figure size 1080x504 with 1 Axes>"
      ]
     },
     "metadata": {
      "needs_background": "light"
     },
     "output_type": "display_data"
    }
   ],
   "source": [
    "dhp = datacamp[datacamp[\"author\"].isin(topauthors)].pivot_table(index=\"publishdateone\",values=\"posts\",columns=\"author\", aggfunc=np.sum)\n",
    "fig, ax = plt.subplots(figsize=(15,7))\n",
    "dhp.plot(ax=ax, kind='bar', stacked=True)\n",
    "ticklabels = [item.strftime('%Y %b') for item in dhp.index]\n",
    "ax.xaxis.set_major_formatter(ticker.FixedFormatter(ticklabels))"
   ]
  },
  {
   "cell_type": "markdown",
   "metadata": {
    "slideshow": {
     "slide_type": "slide"
    }
   },
   "source": [
    "Here is what we possibly get out of the above Chart along with considering the earlier visualization of Tutorial Counts by Authors.\n",
    "\n",
    "While Karlijn Willems has been at the top for Tutorials count. \n",
    "\n",
    "She's also the first to start it all off!\n",
    "\n",
    "Sejal Jaiswal while being the third by count, starts at a high pace and is being consistent with an average of 1 post a month.\n",
    "\n",
    "Aditya Sharma might be crossing Sejal if the same pace is maintained in the coming time.\n"
   ]
  },
  {
   "cell_type": "markdown",
   "metadata": {
    "slideshow": {
     "slide_type": "slide"
    }
   },
   "source": [
    "### Looking at Upvotes vs. Tutorials\n",
    "\n",
    "When a reader likes a tutorial, an upvote is signaled respectively.\n",
    "\n",
    "Let's see who's managed to get a good amount of upvotes vs. number of tutorials they have posted! \n",
    "\n",
    "We'll be considering the top 10 contributors in this case as well. This will be done by using a scatter plot."
   ]
  },
  {
   "cell_type": "code",
   "execution_count": 24,
   "metadata": {
    "slideshow": {
     "slide_type": "subslide"
    }
   },
   "outputs": [],
   "source": [
    "upvote = datacamp[datacamp[\"author\"].isin(topauthors)].groupby(['author'], as_index=False).agg({'posts':\"sum\",      \n",
    "                                     'upvote': \"sum\"})"
   ]
  },
  {
   "cell_type": "code",
   "execution_count": 26,
   "metadata": {
    "slideshow": {
     "slide_type": "slide"
    }
   },
   "outputs": [
    {
     "data": {
      "text/plain": [
       "<seaborn.axisgrid.FacetGrid at 0x1a1abb3650>"
      ]
     },
     "execution_count": 26,
     "metadata": {},
     "output_type": "execute_result"
    },
    {
     "data": {
      "image/png": "[encoded data removed]",
      "text/plain": [
       "<Figure size 546.875x360 with 1 Axes>"
      ]
     },
     "metadata": {
      "needs_background": "light"
     },
     "output_type": "display_data"
    }
   ],
   "source": [
    "sns.lmplot('posts',\n",
    "           'upvote',\n",
    "           data=upvote,\n",
    "           fit_reg=False,\n",
    "           hue=\"author\",\n",
    "           scatter_kws={\"marker\": \"D\",\n",
    "                        \"s\": 100})"
   ]
  },
  {
   "cell_type": "markdown",
   "metadata": {
    "slideshow": {
     "slide_type": "slide"
    }
   },
   "source": [
    "While Karlijn Willems has almost double the number of published posts, the number of upvotes are incredibly high! \n",
    "\n",
    "Around 3 times as much compared to Hugo's upvote count. \n",
    "\n",
    "Sejal has managed to be third while others have got some ground to cover to match the pace."
   ]
  },
  {
   "cell_type": "markdown",
   "metadata": {
    "slideshow": {
     "slide_type": "slide"
    }
   },
   "source": [
    "### Conclusion\n",
    "\n",
    "In this tutorial, we have managed to achieve the following;\n",
    "\n",
    "Scrape tutorials list across all pages.\n",
    "\n",
    "Create a Data Frame and save it as CSV for later reference and Analysis.\n",
    "\n",
    "Explored it using Pandas and Matplotlib along with some transformations.\n",
    "\n",
    "Used Line, Bar, Stacked Bar and Scatter Plots to visualize.\n",
    "\n",
    "I hope this gives a head start to many of us in exploring this and more data sets in a similar fashion!\n",
    "\n",
    "If you would like to learn more about Python, take DataCamp's Introduction to Data Visualization with Python course and Importing Data in Python (Part 2) course to learn about BeautifulSoup."
   ]
  }
 ],
 "metadata": {
  "celltoolbar": "Slideshow",
  "kernelspec": {
   "display_name": "Python 3",
   "language": "python",
   "name": "python3"
  },
  "language_info": {
   "codemirror_mode": {
    "name": "ipython",
    "version": 3
   },
   "file_extension": ".py",
   "mimetype": "text/x-python",
   "name": "python",
   "nbconvert_exporter": "python",
   "pygments_lexer": "ipython3",
   "version": "3.7.6"
  }
 },
 "nbformat": 4,
 "nbformat_minor": 2
}
