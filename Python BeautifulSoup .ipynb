{
 "cells": [
  {
   "cell_type": "markdown",
   "metadata": {},
   "source": [
    "# Using Python BeautifulSoup to scrape DataCamp Tutorials & Analyze\n",
    "\n",
    "In this tutorial, we are going to scrape the tutorials section of the DataCamp website and try to get some insights.\n",
    "\n",
    "The insights will include but not limited to the following!\n",
    "\n",
    "    Most contributing authors\n",
    "    Timeline of contributors (How it all started!)\n",
    "    Comparing upvotes vs. number of articles published\n",
    "    \n",
    "Before that, the website will be scraped using python's BeautifulSoup package.\n",
    "\n",
    "To understand the page structure, Chrome browser developer tools will need to be used. This is done to identify the Classes that will be searched to get the required information. The following information will be gathered from the page:\n",
    "\n",
    "    Author\n",
    "    Publish Date\n",
    "    Title\n",
    "    Description\n",
    "    Up Votes\n",
    "    Importing Libraries\n",
    "\n",
    "We'll start by importing the necessary libraries as follows:"
   ]
  },
  {
   "cell_type": "code",
   "execution_count": 1,
   "metadata": {},
   "outputs": [],
   "source": [
    "import pandas as pd\n",
    "import numpy as np\n",
    "import matplotlib.pyplot as plt\n",
    "import seaborn as sns\n",
    "%matplotlib inline\n",
    "import re\n",
    "import time\n",
    "from datetime import datetime\n",
    "import matplotlib.dates as mdates\n",
    "import matplotlib.ticker as ticker\n",
    "from urllib.request import urlopen\n",
    "from bs4 import BeautifulSoup"
   ]
  },
  {
   "cell_type": "markdown",
   "metadata": {},
   "source": [
    "# Determining Pages to be Scraped\n",
    "\n",
    "A sample URL that we're going to loop and scrape is the following https://www.datacamp.com/community/tutorials?page=2. As we can see, the page=2 argument changes for each page. In order to loop through all the pages to get the necessary dataset, we need to find out the number of pages.\n",
    "\n",
    "The following lines of code do just that."
   ]
  },
  {
   "cell_type": "code",
   "execution_count": 2,
   "metadata": {},
   "outputs": [],
   "source": [
    "#1.\n",
    "url = \"https://www.datacamp.com/community/tutorials\"\n",
    "#2.\n",
    "html = urlopen(url)\n",
    "#3.\n",
    "soup = BeautifulSoup(html, 'html')\n",
    "#4.\n",
    "pages = [i.text for i in soup.find_all('a') if 'community/tutorials?page=' in str(i)]\n",
    "#5\n",
    "lastpage = pages[-1]"
   ]
  },
  {
   "cell_type": "code",
   "execution_count": 3,
   "metadata": {},
   "outputs": [
    {
     "name": "stdout",
     "output_type": "stream",
     "text": [
      "24\n"
     ]
    }
   ],
   "source": [
    "print(lastpage)"
   ]
  },
  {
   "cell_type": "markdown",
   "metadata": {},
   "source": [
    "The illustration is as follows:\n",
    "\n",
    "    #1.Specified the url to a variable.\n",
    "    #2.Opened the url using urlopen which was imported earlier.\n",
    "    #3.Scraped the specified page and assigned it to soup variable.\n",
    "    #4.Identified all hyperlinks on the page using list comprehension.  \n",
    "    #5.filtered for those having community/tutorials?page= in it.\n",
    "    \n",
    "The text value of the last found url is the last page that needs to be scraped. \n",
    "\n",
    "### We proceed by declaring list variables that will hold the scraped values for the columns we intend as mentioned earlier."
   ]
  },
  {
   "cell_type": "code",
   "execution_count": 4,
   "metadata": {},
   "outputs": [],
   "source": [
    "description=[]\n",
    "upvote=[]\n",
    "author=[]\n",
    "publishdate=[]\n",
    "title=[]"
   ]
  },
  {
   "cell_type": "markdown",
   "metadata": {},
   "source": [
    "## Doing the Actual Scrape\n",
    "\n",
    "Now that we know how many pages we need to scrape and have declared our variables, we will now use a for loop and go through each page one by one to get our fields of interest as shown below. \n",
    "\n",
    "#### Note that we will end up having list of lists for each column of interest, but later we will be flattening the list further so that it can be used for Data Frames."
   ]
  },
  {
   "cell_type": "code",
   "execution_count": null,
   "metadata": {},
   "outputs": [],
   "source": [
    "for cp in np.arange(1,int(lastpage)+1):\n",
    "    url = \"https://www.datacamp.com/community/tutorials?page=\" + str(cp)\n",
    "    html = urlopen(url)\n",
    "    soup = BeautifulSoup(html, 'html')\n",
    "    description.append([i.text for i in soup.find_all(class_='jsx-379356511 blocText description')])\n",
    "    upvote.append([i.text for i in soup.find_all(class_='jsx-4192737526 voted')])\n",
    "    author.append([i.text for i in soup.find_all(class_='jsx-566588255 name')])\n",
    "    publishdate.append([i.text for i in soup.find_all(class_='jsx-566588255 date')])\n",
    "    title.append([i.text for i in soup.find_all(class_='jsx-379356511 blue')])\n",
    "    time.sleep(3)\n",
    "print(\"Done!\")"
   ]
  },
  {
   "cell_type": "markdown",
   "metadata": {},
   "source": [
    "### Here is what happened in the above code segment;\n",
    "\n",
    "    Set the url to a variable\n",
    "    Opened the url using urlopen which was imported earlier\n",
    "    Scraped the specified page and assigned it to soup variable\n",
    "    Identified and extracted values for \n",
    "        Description,\n",
    "        Up Vote, \n",
    "        Author, \n",
    "        Publish Date, \n",
    "        Title \n",
    "by using their relevant class names. These class names were found using Developer Tools The time function has been used to be easy on the website this time :)\n"
   ]
  },
  {
   "cell_type": "markdown",
   "metadata": {},
   "source": [
    "### Flattening List of Lists\n",
    "\n",
    "Since the values we got are list of lists, they will now be flatted using the following code segment:"
   ]
  },
  {
   "cell_type": "code",
   "execution_count": null,
   "metadata": {},
   "outputs": [],
   "source": [
    "descriptionflat = [y for x in description for y in x]\n",
    "upvoteflat = [y for x in upvote for y in x]\n",
    "authorflat = [y for x in author for y in x]\n",
    "publishdateflat = [y for x in publishdate for y in x]\n",
    "titleflat = [y for x in title for y in x]\n",
    "publishdateformatted = [datetime.strptime(re.sub('rd, ', ', ', re.sub('st, ', ', ', re.sub('nd, ', ', ', re.sub('th, ',', ',a)))), \"%B %d, %Y\") for a in publishdateflat]"
   ]
  },
  {
   "cell_type": "markdown",
   "metadata": {},
   "source": [
    "The last statement in the cell above converts the date values (which are currently in String Format) to DateTime."
   ]
  },
  {
   "cell_type": "code",
   "execution_count": null,
   "metadata": {
    "scrolled": true
   },
   "outputs": [],
   "source": [
    "cdata = {\"author\":authorflat,\"publishdate\":publishdateformatted,\"title\":titleflat,\"description\":descriptionflat,\"upvote\":upvoteflat}\n",
    "df = pd.DataFrame(data = cdata)\n",
    "df.to_csv(\"c:\\\\users\\\\ssalahuddin\\\\documents\\\\datacamp130818.csv\", header=True, index=False)"
   ]
  },
  {
   "cell_type": "markdown",
   "metadata": {},
   "source": [
    "### Reading CSV File\n",
    "\n",
    "Now we are attempting to read into the collected dataset from the CSV file we just created."
   ]
  },
  {
   "cell_type": "code",
   "execution_count": null,
   "metadata": {},
   "outputs": [],
   "source": [
    "datacamp = pd.read_csv(\"c:\\\\users\\\\ssalahuddin\\\\documents\\\\datacamp130818.csv\", parse_dates=[\"publishdate\"], infer_datetime_format=True)"
   ]
  },
  {
   "cell_type": "code",
   "execution_count": null,
   "metadata": {},
   "outputs": [],
   "source": [
    "datacamp.shape"
   ]
  },
  {
   "cell_type": "markdown",
   "metadata": {},
   "source": [
    "The above command tells us we're dealing with a dataset of 176 rows and 5 columns."
   ]
  },
  {
   "cell_type": "code",
   "execution_count": null,
   "metadata": {},
   "outputs": [],
   "source": [
    "datacamp.head()"
   ]
  },
  {
   "cell_type": "markdown",
   "metadata": {},
   "source": [
    "### Showing the first 5 rows of the dataset above using the head function."
   ]
  },
  {
   "cell_type": "code",
   "execution_count": null,
   "metadata": {},
   "outputs": [],
   "source": [
    "datacamp['publishyymm'] = datacamp['publishdate'].dt.strftime(\"%Y-%b\")\n",
    "datacamp[\"posts\"] = 1"
   ]
  },
  {
   "cell_type": "markdown",
   "metadata": {},
   "source": [
    "#### The first line in the above code section creates a new column with the publish date formatted as a Year-Month format.\n",
    "\n",
    "#### The second line assigns value 1 to a new column posts being used later.\n"
   ]
  },
  {
   "cell_type": "markdown",
   "metadata": {},
   "source": [
    "## Tutorials Count by Time\n",
    "\n",
    "Here we will organize the count of Tutorials over Timeline of Year and Month:"
   ]
  },
  {
   "cell_type": "code",
   "execution_count": null,
   "metadata": {},
   "outputs": [],
   "source": [
    "datacamp.groupby([datacamp['publishdate'].dt.year, datacamp['publishdate'].dt.month]).size().plot(kind='bar', figsize=(15,7), color='b')"
   ]
  },
  {
   "cell_type": "code",
   "execution_count": null,
   "metadata": {},
   "outputs": [],
   "source": [
    "<matplotlib.axes._subplots.AxesSubplot at 0x1bd55d2cb70>"
   ]
  },
  {
   "cell_type": "markdown",
   "metadata": {},
   "source": [
    "## Since 2017 January\n",
    "\n",
    "Since the duration from 2013 till 2016 represents very few posts, we will be ignoring them from now and considering posts starting Jan 2017. A filter will be applied for that as shown below\n"
   ]
  },
  {
   "cell_type": "code",
   "execution_count": null,
   "metadata": {},
   "outputs": [],
   "source": [
    "datacamp[datacamp[\"publishdate\"]>='2017-01-01'].sort_values(by=\"publishdate\", ascending=True).groupby([datacamp['publishyymm']],sort=False).size().plot(kind='bar', figsize=(15,7), color='b')"
   ]
  },
  {
   "cell_type": "code",
   "execution_count": null,
   "metadata": {},
   "outputs": [],
   "source": [
    "<matplotlib.axes._subplots.AxesSubplot at 0x1bd55ca57f0>"
   ]
  },
  {
   "cell_type": "markdown",
   "metadata": {},
   "source": [
    "Tutorials have paced up in 2018 with especially starting March onwards with a consistent upwards pace. Since this data was pulled in mid-August and almost crossing the middle line of July's tutorials count, we might be having August as the month with highest posts so far this year!\n"
   ]
  },
  {
   "cell_type": "markdown",
   "metadata": {},
   "source": [
    "## Top Authors Graph\n",
    "\n",
    "While we're pacing up on all these tutorials, who have been contributing on them along the way? Here we go with a simple bar chart highlighting this very fact."
   ]
  },
  {
   "cell_type": "code",
   "execution_count": null,
   "metadata": {},
   "outputs": [],
   "source": [
    "datacamp[datacamp[\"publishdate\"]>='2017-01-01'][\"author\"].value_counts(sort=True, ascending=False)[:10].plot(kind='bar')"
   ]
  },
  {
   "cell_type": "code",
   "execution_count": null,
   "metadata": {},
   "outputs": [],
   "source": [
    "<matplotlib.axes._subplots.AxesSubplot at 0x1bd57ca4ba8>"
   ]
  },
  {
   "cell_type": "markdown",
   "metadata": {},
   "source": [
    "### Top Authors List\n",
    "\n",
    "Let's build a list of these as well while we are at it. We'll be using this soon below:"
   ]
  },
  {
   "cell_type": "code",
   "execution_count": null,
   "metadata": {},
   "outputs": [],
   "source": [
    "topauthors = datacamp[datacamp[\"publishdate\"]>='2017-01-01'][\"author\"].value_counts(sort=True, ascending=False)[:10].index"
   ]
  },
  {
   "cell_type": "markdown",
   "metadata": {},
   "source": [
    "    This is what happened in the code section above.\n",
    "\n",
    "    Limited Result set to Tutorials since 2017 January\n",
    "\n",
    "    Select only Author field\n",
    "\n",
    "    Aggregated results using the value_counts function\n",
    "\n",
    "    Sorted the result set in descending order and limited it to the first 10 rows"
   ]
  },
  {
   "cell_type": "markdown",
   "metadata": {},
   "source": [
    "### Tutorials Paced over Timeline\n",
    "\n",
    "Now what we're going to focus on is since when and at what pace have these top 10 contributors been posting tutorials. For this, we will be using the list we just created along with some transformations to come up with a stacked bar chart that we need."
   ]
  },
  {
   "cell_type": "code",
   "execution_count": null,
   "metadata": {},
   "outputs": [],
   "source": [
    "dh = datacamp[datacamp[\"publishdate\"]>='2017-01-01'].sort_values(by=\"publishdate\", ascending=True).set_index([\"publishdate\"])\n",
    "dh[\"publishdateone\"] = pd.to_datetime(dh.publishdate.astype(str).str[0:7]+'-01')"
   ]
  },
  {
   "cell_type": "markdown",
   "metadata": {},
   "source": [
    "This is what happened in the code section above.\n",
    "\n",
    "Limited Result set to Tutorials since 2017 January\n",
    "\n",
    "Sorted by Publish Date\n",
    "\n",
    "Making Publish Date as the Index column\n",
    "\n",
    "Now that we're going to visualize using a stacked bar chart, the data set will now be pivoted by having the date field as the Index, Posts as values which are to be aggregated, and Authors as columns."
   ]
  },
  {
   "cell_type": "code",
   "execution_count": null,
   "metadata": {},
   "outputs": [],
   "source": [
    "dhp = dh[dh[\"author\"].isin(topauthors)].pivot_table(index=\"publishdateone\",values=\"posts\",columns=\"author\", aggfunc=np.sum)\n",
    "fig, ax = plt.subplots(figsize=(15,7))\n",
    "dhp.plot(ax=ax, kind='bar', stacked=True)\n",
    "ticklabels = [item.strftime('%Y %b') for item in dhp.index]\n",
    "ax.xaxis.set_major_formatter(ticker.FixedFormatter(ticklabels))"
   ]
  },
  {
   "cell_type": "markdown",
   "metadata": {},
   "source": [
    "Here is what we possibly get out of the above Chart along with considering the earlier visualization of Tutorial Counts by Authors.\n",
    "\n",
    "While Karlijn Willems has been at the top for Tutorials count. \n",
    "\n",
    "She's also the first to start it all off!\n",
    "\n",
    "Sejal Jaiswal while being the third by count, starts at a high pace and is being consistent with an average of 1 post a month.\n",
    "\n",
    "Aditya Sharma might be crossing Sejal if the same pace is maintained in the coming time.\n"
   ]
  },
  {
   "cell_type": "markdown",
   "metadata": {},
   "source": [
    "### Looking at Upvotes vs. Tutorials\n",
    "\n",
    "When a reader likes a tutorial, an upvote is signaled respectively.\n",
    "\n",
    "Let's see who's managed to get a good amount of upvotes vs. number of tutorials they have posted! \n",
    "\n",
    "We'll be considering the top 10 contributors in this case as well. This will be done by using a scatter plot."
   ]
  },
  {
   "cell_type": "code",
   "execution_count": null,
   "metadata": {},
   "outputs": [],
   "source": [
    "upvotes = dh[dh[\"author\"].isin(topauthors)].groupby(['author'], as_index=False).agg({'posts':\"sum\",      \n",
    "                                     'upvote': \"sum\"})"
   ]
  },
  {
   "cell_type": "code",
   "execution_count": null,
   "metadata": {},
   "outputs": [],
   "source": [
    "sns.lmplot('posts',\n",
    "           'upvote',\n",
    "           data=upvotes,\n",
    "           fit_reg=False,\n",
    "           hue=\"author\",\n",
    "           scatter_kws={\"marker\": \"D\",\n",
    "                        \"s\": 100})"
   ]
  },
  {
   "cell_type": "code",
   "execution_count": null,
   "metadata": {},
   "outputs": [],
   "source": [
    "<seaborn.axisgrid.FacetGrid at 0x1bd57cd69e8>"
   ]
  },
  {
   "cell_type": "markdown",
   "metadata": {},
   "source": [
    "While Karlijn Willems has almost double the number of published posts, the number of upvotes are incredibly high! \n",
    "\n",
    "Around 3 times as much compared to Hugo's upvote count. \n",
    "\n",
    "Sejal has managed to be third while others have got some ground to cover to match the pace."
   ]
  },
  {
   "cell_type": "markdown",
   "metadata": {},
   "source": [
    "### Conclusion\n",
    "\n",
    "In this tutorial, we have managed to achieve the following;\n",
    "\n",
    "Scrape tutorials list across all pages.\n",
    "\n",
    "Create a Data Frame and save it as CSV for later reference and Analysis.\n",
    "\n",
    "Explored it using Pandas and Matplotlib along with some transformations.\n",
    "\n",
    "Used Line, Bar, Stacked Bar and Scatter Plots to visualize.\n",
    "\n",
    "I hope this gives a head start to many of us in exploring this and more data sets in a similar fashion!\n",
    "\n",
    "If you would like to learn more about Python, take DataCamp's Introduction to Data Visualization with Python course and Importing Data in Python (Part 2) course to learn about BeautifulSoup."
   ]
  }
 ],
 "metadata": {
  "kernelspec": {
   "display_name": "Python 3",
   "language": "python",
   "name": "python3"
  },
  "language_info": {
   "codemirror_mode": {
    "name": "ipython",
    "version": 3
   },
   "file_extension": ".py",
   "mimetype": "text/x-python",
   "name": "python",
   "nbconvert_exporter": "python",
   "pygments_lexer": "ipython3",
   "version": "3.7.4"
  }
 },
 "nbformat": 4,
 "nbformat_minor": 2
}
